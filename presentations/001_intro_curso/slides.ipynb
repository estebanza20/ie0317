{
 "cells": [
  {
   "cell_type": "markdown",
   "id": "dc231084",
   "metadata": {
    "slideshow": {
     "slide_type": "slide"
    }
   },
   "source": [
    "# Clase 1: Introducción al curso\n",
    "\n",
    "- IE0417: Diseño de Software para Ingeniería"
   ]
  },
  {
   "cell_type": "markdown",
   "id": "83eff8e5",
   "metadata": {
    "cell_style": "split",
    "slideshow": {
     "slide_type": "slide"
    }
   },
   "source": [
    "## Introducción Profesor\n",
    "- Esteban Zamora Alvarado\n",
    "- [LinkedIn](https://www.linkedin.com/in/esteban-zamora-a54484102/)\n",
    "\n",
    "#### Bach Ing. Eléctrica UCR (2014-2018)\n",
    "- Énfasis en Compus y Redes\n",
    "- PRIS-Lab: High Performance Computing (HPC)\n"
   ]
  },
  {
   "cell_type": "markdown",
   "id": "c5e98a99",
   "metadata": {
    "cell_style": "split",
    "slideshow": {
     "slide_type": "fragment"
    }
   },
   "source": [
    "#### Embedded Software Engineer (2018+)\n",
    "- HPE Aruba Switching R&D, ASIC-SDK\n",
    "- *Senior Engineer & Tech Lead* (Costa Rica + Roseville, CA)\n",
    "- Kernel drivers y aplicaciones en Linux y RTOS (C/C++)\n",
    "- Herramientas de testing y observabilidad (Python, Go)\n"
   ]
  },
  {
   "cell_type": "markdown",
   "id": "4d811fc0",
   "metadata": {
    "cell_style": "center",
    "slideshow": {
     "slide_type": "slide"
    }
   },
   "source": [
    "#### Introducción Estudiantes\n",
    "- Presentación\n",
    "    - Nombre, Énfasis, etc\n",
    "    - Qué sienten que pueden hacer con lo que saben de programación? \n",
    "    - Interés y expectativas sobre el curso\n"
   ]
  },
  {
   "cell_type": "markdown",
   "id": "4592170f",
   "metadata": {
    "slideshow": {
     "slide_type": "slide"
    }
   },
   "source": [
    "#### Profesor <-> Estudiantes\n",
    "- Comunicación asertiva\n",
    "- Retroalimentación continua"
   ]
  },
  {
   "cell_type": "markdown",
   "id": "cc5c3d9b",
   "metadata": {
    "cell_style": "split",
    "slideshow": {
     "slide_type": "slide"
    }
   },
   "source": [
    "### Qué Es / No Es?\n",
    "#### Es\n",
    "  - Enfoque en sistemas embebidos\n",
    "     - EIE > ECCI\n",
    "\t - IoT, Web-Backend, Edge-to-Cloud\n",
    "  - Introducción al proceso y herramientas de desarrollo de software\n",
    "  - Programación avanzada en C/C++ y Python (...Go?)\n",
    "  - Spanglish :P"
   ]
  },
  {
   "cell_type": "markdown",
   "id": "c508ca78",
   "metadata": {
    "cell_style": "split",
    "slideshow": {
     "slide_type": "fragment"
    }
   },
   "source": [
    "<p>&nbsp;</p>\n",
    "\n",
    "#### No Es\n",
    "- Un laboratorio de programación libre\n",
    "- Enfoque en programación Web-Frontend o Movil\n",
    "- Un manual de *reglas de oro* de como desarrollar software"
   ]
  },
  {
   "cell_type": "markdown",
   "id": "53f9da50",
   "metadata": {
    "slideshow": {
     "slide_type": "slide"
    }
   },
   "source": [
    "#### Motivación\n",
    "- El software es un pilar del mundo moderno\n",
    "  - Las vidas de las personas dependen del software\n",
    "  - Buenos procesos de desarrollo y calidad son críticos => Ingeniería\n"
   ]
  },
  {
   "cell_type": "markdown",
   "id": "f5935036",
   "metadata": {
    "slideshow": {
     "slide_type": "slide"
    }
   },
   "source": [
    "#### Que vamos a hacer en el curso?\n",
    "- Tomarnos el tiempo para aprender a hacer software para la vida real\n",
    "    - No más correr para entregar un \"*main*\"\n",
    "    - No más \"*En mi compu sí servía*\"\n",
    "    - No más \"*trabajo_final_v7.2_xyz-ahora_si-en_serio_x2.zip*\"\n",
    "- Qué me hubiera servido conocer al empezar como Ing de Software Embebido?\n",
    "    - Campo laboral para ingenieros con background de Ing Eléctrica (HW+SW)"
   ]
  },
  {
   "cell_type": "markdown",
   "id": "8d277b53",
   "metadata": {
    "cell_style": "split",
    "slideshow": {
     "slide_type": "slide"
    }
   },
   "source": [
    "##### CI-0202, IE-0117, IE-0217\n",
    "![martillo](img/herramientas.jpg)"
   ]
  },
  {
   "cell_type": "markdown",
   "id": "210faa5a",
   "metadata": {
    "cell_style": "split",
    "slideshow": {
     "slide_type": "slide"
    }
   },
   "source": [
    "##### IE-0417\n",
    "![martillo](img/martillo-neumatico.jpg)"
   ]
  },
  {
   "cell_type": "markdown",
   "id": "91c11c4c",
   "metadata": {
    "cell_style": "split",
    "slideshow": {
     "slide_type": "fragment"
    }
   },
   "source": [
    "![puente](img/puente.jpg)"
   ]
  },
  {
   "cell_type": "markdown",
   "id": "f78edcb7",
   "metadata": {
    "cell_style": "split",
    "slideshow": {
     "slide_type": "slide"
    }
   },
   "source": [
    "#### Fallas del hardware\n",
    "![fallas_hw](img/fallas_hardware.png)"
   ]
  },
  {
   "cell_type": "markdown",
   "id": "bbc65ecf",
   "metadata": {
    "cell_style": "split",
    "slideshow": {
     "slide_type": "fragment"
    }
   },
   "source": [
    "#### Fallas del software\n",
    "![fallas_sw](img/fallas_software.png)"
   ]
  },
  {
   "cell_type": "markdown",
   "id": "0db4fa8e",
   "metadata": {
    "cell_style": "split",
    "slideshow": {
     "slide_type": "slide"
    }
   },
   "source": [
    "#### Qué pasa cuando no se aplica bien la Ing. de software?\n",
    "![sw_rot](img/sw_rot_puente.jpg)\n",
    "*Software rot*"
   ]
  },
  {
   "cell_type": "markdown",
   "id": "e079595a",
   "metadata": {
    "cell_style": "split",
    "slideshow": {
     "slide_type": "fragment"
    }
   },
   "source": [
    "<p>&nbsp;</p>\n",
    "<p>&nbsp;</p>\n",
    "\n",
    "![bug](img/cyberpunk_bug.jpg)"
   ]
  },
  {
   "cell_type": "markdown",
   "id": "2e52db3e",
   "metadata": {
    "slideshow": {
     "slide_type": "slide"
    }
   },
   "source": [
    "#### Pero... El software no lo es todo\n",
    "- Proceso >> Código\n",
    "    - Flujo de actividades\n",
    "    - Dominio de aplicación\n",
    "- Personas >> Programas\n",
    "    - Interacciones humanas\n",
    "    - Cultura organizacional"
   ]
  },
  {
   "cell_type": "markdown",
   "id": "917494c6",
   "metadata": {
    "cell_style": "split",
    "slideshow": {
     "slide_type": "slide"
    }
   },
   "source": [
    "![boeing_737_max](img/boeing_737_max.jpg)"
   ]
  },
  {
   "cell_type": "markdown",
   "id": "e121d6a2",
   "metadata": {
    "cell_style": "split",
    "slideshow": {
     "slide_type": "fragment"
    }
   },
   "source": [
    "[Boeing 737 Max disaster](https://spectrum.ieee.org/how-the-boeing-737-max-disaster-looks-to-a-software-developer)"
   ]
  },
  {
   "cell_type": "markdown",
   "id": "b23358ff",
   "metadata": {
    "cell_style": "split",
    "slideshow": {
     "slide_type": "slide"
    }
   },
   "source": [
    "\n",
    "#### Detalles del curso\n",
    "- [Mediación Virtual](https://mv1.mediacionvirtual.ucr.ac.cr/course/view.php?id=26366)\n",
    "- [Carta al Estudiante](https://mv1.mediacionvirtual.ucr.ac.cr/pluginfile.php/2070064/mod_resource/content/1/Carta%20al%20estudiante.pdf)\n",
    "- [IE-0417 - GitHub](https://github.com/ezamoraa/ie0417)\n",
    "- [IE-0417 - Read The Docs](https://ie0417.readthedocs.io/es/latest/index.html)\n"
   ]
  },
  {
   "cell_type": "markdown",
   "id": "a7fab473",
   "metadata": {
    "cell_style": "split",
    "slideshow": {
     "slide_type": "fragment"
    }
   },
   "source": [
    "*Disclaimer*: Es la primera vez que se da el curso\n",
    "\n",
    "#### Desventajas\n",
    "- No hay feedback de semestres anteriores\n",
    "- Parte del material está en desarrollo\n",
    "\n",
    "#### Ventajas\n",
    "- Hay posibilidad de influir en detalles\n",
    "- Aprender algo que otras generaciones de EIE no han visto\n",
    "- Vivir al límite :)"
   ]
  },
  {
   "cell_type": "markdown",
   "id": "806ae104",
   "metadata": {
    "slideshow": {
     "slide_type": "slide"
    }
   },
   "source": [
    "#### Reglas del curso\n",
    "- Se vale \"copiar\" código ... siempre y cuando se respeten las licencias de software\n",
    "- Los labs y el proyecto deben\n",
    "    - Aplicar correctamente una licencia de software\n",
    "    - Estar documentados con Sphinx, Doxygen para C/C++\n",
    "    - Tabajarse en git + [github.com](https://github.com)\n",
    "        - Demostrar que se desarrolló con git y branches, no solo subir \"commits de entrega\""
   ]
  },
  {
   "cell_type": "markdown",
   "id": "453ee783",
   "metadata": {
    "slideshow": {
     "slide_type": "slide"
    }
   },
   "source": [
    "#### Licencias de software libre: Por qué son importantes?\n",
    "- El software open source (OSS) está en todas partes\n",
    "    - Tecnologías que damos por sentado\n",
    "    - Software moderno se apalanca de OSS y da valor agregado\n",
    "- Son útiles para aprender a colaborar en proyectos open source"
   ]
  },
  {
   "cell_type": "markdown",
   "id": "76baeebd",
   "metadata": {
    "slideshow": {
     "slide_type": "slide"
    }
   },
   "source": [
    "![ballmer_nadella](img/ballmer_nadella.jpg)"
   ]
  },
  {
   "cell_type": "markdown",
   "id": "e1b10b38",
   "metadata": {
    "slideshow": {
     "slide_type": "slide"
    }
   },
   "source": [
    "![microsoft-loves-linux](img/microsoft-loves-linux.jpg)"
   ]
  },
  {
   "cell_type": "markdown",
   "id": "06247dbd",
   "metadata": {
    "slideshow": {
     "slide_type": "slide"
    }
   },
   "source": [
    "#### Licencias de software: Qué son?\n",
    "- Instrumentos legales que definen como usar y distribuir el software\n",
    "    - Otorgan permiso por adelantado sobre el uso del software\n",
    "    - Empoderan al autor para decidir los detalles de como hacerlo\n",
    "    - Reducen la ambiguedad al trabajar con software externo\n"
   ]
  },
  {
   "cell_type": "markdown",
   "id": "c89700e8",
   "metadata": {
    "slideshow": {
     "slide_type": "slide"
    }
   },
   "source": [
    "#### Copyright\n",
    "- Mecanismos de protección sobre los derechos de autoría sobre trabajo creativo\n",
    "- Derechos exclusivos para copiar, modificar, crear trabajos derivados y distribuir\n",
    "\n",
    "#### Copyright holder\n",
    "- Titular de derechos de autor\n",
    "- Persona o organización que tiene los derechos exclusivos sobre el uso de su trabajo y distribución\n"
   ]
  },
  {
   "cell_type": "markdown",
   "id": "50228419",
   "metadata": {
    "slideshow": {
     "slide_type": "slide"
    }
   },
   "source": [
    "#### Licencia Open Source\n",
    "- Cumplir con definición de OSI: [OSD](https://opensource.org/osd-annotated)\n",
    "- Permisivas vs Copyleft\n",
    "    - Imponen más o menos requisitos\n",
    "\n",
    "#### Licencia no Open Source (propietaria)\n",
    "- Autor se reserva la mayoría de los derechos\n",
    "- Se imponen restricciones sobre el uso\n",
    "- Propietario != comercial (`$`)\n"
   ]
  },
  {
   "cell_type": "markdown",
   "id": "b4ec0493",
   "metadata": {
    "slideshow": {
     "slide_type": "slide"
    }
   },
   "source": [
    "#### Open Source vs Software Libre\n",
    "- *Open Source* se refiere a las implicaciones prácticas de las licencias\n",
    "    - Colaboración efectiva para el desarrollo de software\n",
    "- *Software Libre* se refiere a un conjunto de valores basado en 4 libertades\n",
    "    - Ejecutar el programa como se desee, con cualquier propósito\n",
    "    - Estudiar cómo funciona el programa, y cambiarlo para que haga lo que se desee\n",
    "    - Redistribuir copias para ayudar a otros\n",
    "    - Distribuir copias de sus versiones modificadas a terceros"
   ]
  },
  {
   "cell_type": "markdown",
   "id": "e4813251",
   "metadata": {
    "slideshow": {
     "slide_type": "slide"
    }
   },
   "source": [
    "\n",
    "#### SPDX: Software Package Data Exchange\n",
    "- [Estandar](https://spdx.dev/specifications/) abierto para SBOM (Software Bill of Materials)\n",
    "- [Identificadores cortos de licencias](https://spdx.org/licenses/)\n",
    "```c\n",
    "/* SPDX-License-Identifier: GPL-3.0-or-later */\n",
    "```\n",
    "    "
   ]
  },
  {
   "cell_type": "markdown",
   "id": "646b0eb5",
   "metadata": {
    "slideshow": {
     "slide_type": "slide"
    }
   },
   "source": [
    "#### Consideraciones sobre licencias OSS\n",
    "- Si un proyecto puede ser descargado libremente pero no tiene licencia\n",
    "    - No se puede asumir que es \"open source\"\n",
    "- Licencias open source vs patentes\n",
    "    - Una patente le da al dueño derechos exclusivos sobre:\n",
    "        - Construcción, el uso y la venta de una invención\n",
    "    - Las licencias OSS pueden entrar en conflicto con las patentes\n",
    "    - Las licencias OSS definen clausulas de patentes"
   ]
  },
  {
   "cell_type": "markdown",
   "id": "e7f2be29",
   "metadata": {
    "slideshow": {
     "slide_type": "slide"
    }
   },
   "source": [
    "#### Recursos extra sobre licencias OSS\n",
    "- [Curso gratuito Linux Foundation](https://training.linuxfoundation.org/training/open-source-licensing-basics-for-software-developers/)\n",
    "- [Elige una licencia Open Source](https://choosealicense.com/)"
   ]
  },
  {
   "cell_type": "markdown",
   "id": "a9e28cbe",
   "metadata": {
    "cell_style": "center",
    "slideshow": {
     "slide_type": "slide"
    }
   },
   "source": [
    "##### Quiz 1: Licencias OSS\n",
    "- Presentación el Lunes 4 de Abril\n",
    "- En grupos (2 o 3 personas)\n",
    "- Ver [licencias Open Source](https://opensource.org/licenses/category)\n",
    "    - Ejemplos: Apache-2.0, MIT, BSD-3-Clause, GPL-2, GPL-3, MPL-2.0, CC licenses\n"
   ]
  },
  {
   "cell_type": "markdown",
   "id": "96e8532b",
   "metadata": {
    "cell_style": "center",
    "slideshow": {
     "slide_type": "slide"
    }
   },
   "source": [
    "##### Quiz 1: Licencias OSS\n",
    "- Presentación debe responder las siguientes preguntas:\n",
    "    - Cual es el tipo de licencia (permisiva vs copyleft)?\n",
    "    - Cuales son los derechos y restricciones para uso, modificación y distribución?\n",
    "        - Énfasis en cuales son consideradas las ventajas y casos de aplicación\n",
    "        - Diferencias con licencias relacionadas (ejemplo: GPL-2 vs GPL-3)\n",
    "    - Como aplicar esta licencia en un proyecto propio?\n",
    "        - Archivo LICENSE, Copyright notice, etc\n",
    "    - Como modificar un archivo existente en un proyecto que usa esta licencia?\n",
    "    - Cual es un ejemplo de un proyecto conocido que la usa?\n",
    "        - Impacto o implicaciones específicas de la licencia sobre el proyecto\n",
    "        - Casos legales históricos relacionados a la licencia"
   ]
  }
 ],
 "metadata": {
  "celltoolbar": "Slideshow",
  "kernelspec": {
   "display_name": "Python 3 (ipykernel)",
   "language": "python",
   "name": "python3"
  },
  "language_info": {
   "codemirror_mode": {
    "name": "ipython",
    "version": 3
   },
   "file_extension": ".py",
   "mimetype": "text/x-python",
   "name": "python",
   "nbconvert_exporter": "python",
   "pygments_lexer": "ipython3",
   "version": "3.8.10"
  }
 },
 "nbformat": 4,
 "nbformat_minor": 5
}
