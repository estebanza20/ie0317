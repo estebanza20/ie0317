{
 "cells": [
  {
   "cell_type": "markdown",
   "id": "cb096e84",
   "metadata": {
    "slideshow": {
     "slide_type": "slide"
    }
   },
   "source": [
    "#### Diseño de software\n",
    "\n",
    "![sw_design](img/sw_design.png)"
   ]
  },
  {
   "cell_type": "markdown",
   "id": "3c0f0fad",
   "metadata": {
    "slideshow": {
     "slide_type": "slide"
    }
   },
   "source": [
    "#### Especificación de casos de uso\n",
    "- Escenarios desde el punto de vista del usuario\n",
    "    - Narrativa basada en actores\n",
    "    - Funciones / actividades del actor primario\n",
    "    - Escenarios primarios / secundarios\n",
    "- Requerimientos funcionales detallados\n",
    "- [[Paper] Casos de uso -> SRS](https://mv1.mediacionvirtual.ucr.ac.cr/mod/resource/view.php?id=1628420)"
   ]
  },
  {
   "cell_type": "markdown",
   "id": "9f273e42",
   "metadata": {
    "cell_style": "split",
    "slideshow": {
     "slide_type": "slide"
    }
   },
   "source": [
    "#### Ejemplo de casos de uso: SafeHome Surveillance\n",
    "Sistema de vigilancia de casas (IoT, domótica)\n",
    "\n",
    "![home_camera](img/home_camera.jpg)"
   ]
  },
  {
   "cell_type": "markdown",
   "id": "f9511e38",
   "metadata": {
    "cell_style": "split",
    "slideshow": {
     "slide_type": "fragment"
    }
   },
   "source": [
    "##### Funciones (Actor: Propietario)\n",
    "- Seleccionar cámara para ver\n",
    "- Mostrar vistas reducidas de todas las cámaras\n",
    "- Controlar el ángulo y acercamiento de una cámara\n",
    "- Grabar la salida de cada cámara en forma selectiva\n",
    "- Reproducir la salida de una cámara\n",
    "- **Acceder por internet a la vigilancia con cámaras**\n",
    "- Configurar los parámetros del sistema\n",
    "- Configurar una alarma"
   ]
  },
  {
   "cell_type": "markdown",
   "id": "595abb6a",
   "metadata": {
    "cell_style": "center",
    "slideshow": {
     "slide_type": "slide"
    }
   },
   "source": [
    "#### Diagramas de casos de uso: SafeHome Surveillance\n",
    "\n",
    "![use_case_diagram](img/use_case_diagram.png)"
   ]
  },
  {
   "cell_type": "markdown",
   "id": "790c17e6",
   "metadata": {
    "cell_style": "center",
    "slideshow": {
     "slide_type": "slide"
    }
   },
   "source": [
    "#### Caso de uso: acceder a la vigilancia con cámaras por internet\n",
    "#### Actor: propietario \n",
    "\n",
    "Si estoy en una localidad alejada, puedo usar cualquier celular con el app de SafeHome. **Introduzco mi identificación de usuario y dos niveles de claves**; una vez validadas, tengo acceso a toda la funcionalidad de mi sistema instalado. Para acceder a la vista de una cámara específica, **selecciono “vigilancia”** de los botones mostrados para las funciones principales. Luego **selecciono “escoger una cámara”** y aparece el plano de la casa. Después **elijo la cámara que me interesa**. Alternativamente, puedo ver la vista de todas las cámaras simultáneamente si **selecciono “todas las cámaras”**. **Una vez que escojo una, selecciono “vista”** y en la ventana que cubre la cámara aparece una vista con velocidad de un cuadro por segundo. Si quiero cambiar entre las cámaras, **selecciono “escoger una cámara”** y desaparece la vista original y de nuevo se muestra el plano de la casa. Después, selecciono la cámara que me interesa. Aparece una nueva ventana de vistas."
   ]
  },
  {
   "cell_type": "markdown",
   "id": "4f215b4d",
   "metadata": {
    "cell_style": "split",
    "slideshow": {
     "slide_type": "slide"
    }
   },
   "source": [
    "#### Caso de uso: acceder a la vigilancia con cámaras por internet\n",
    "#### Actor: propietario \n",
    "\n",
    "1. El propietario accede al app SafeHome.\n",
    "2. El propietario introduce su identificación de usuario. \n",
    "3. El propietario escribe dos claves (cada una de al menos ocho caracteres de longitud). \n",
    "4. El sistema muestra los botones de todas las funciones principales. \n",
    "5. El propietario selecciona “vigilancia” de los botones de las funciones principales. \n"
   ]
  },
  {
   "cell_type": "markdown",
   "id": "1bb4dbc9",
   "metadata": {
    "cell_style": "split",
    "slideshow": {
     "slide_type": "-"
    }
   },
   "source": [
    "<p>&nbsp;</p>\n",
    "\n",
    "6. El propietario elige “seleccionar una cámara”. \n",
    "7. El sistema presenta el plano de la casa. \n",
    "8. El propietario escoge el ícono de una cámara en el plano de la casa. \n",
    "9. El propietario selecciona el botón “vista”.\n",
    "10. El sistema presenta la ventana de vista identificada con la elección de la cámara. \n",
    "11. El sistema muestra un video dentro de la ventana a velocidad de un cuadro por segundo."
   ]
  },
  {
   "cell_type": "markdown",
   "id": "f5fc22e2",
   "metadata": {
    "cell_style": "split",
    "slideshow": {
     "slide_type": "slide"
    }
   },
   "source": [
    "#### Refinamiento de casos de uso\n",
    "- *Puede el actor tomar otra acción en este punto?*\n",
    "    - Ej (pasos 6, 7): Observar vistas miniatura de todas las cámaras\n",
    "- *Puede el actor encontrarse con una condición de error?*\n",
    "    - Ej (pasos 6, 7): Plano no configurado para esta casa\n",
    "- *Puede el actor encontrarse otro evento?*\n",
    "    - Ej: Notificación de alarma\n"
   ]
  },
  {
   "cell_type": "markdown",
   "id": "1a28fbdd",
   "metadata": {
    "cell_style": "split",
    "slideshow": {
     "slide_type": "fragment"
    }
   },
   "source": [
    "##### Excepciones\n",
    "- Errores de validación\n",
    "    - Entrada de usuario\n",
    "- Fallo de componentes\n",
    "    - Timeout del servidor\n",
    "- Pueden derivar en escenarios secundarios"
   ]
  },
  {
   "cell_type": "markdown",
   "id": "dca6bbc6",
   "metadata": {
    "cell_style": "split",
    "slideshow": {
     "slide_type": "slide"
    }
   },
   "source": [
    "#### Casos de uso: Diagramas de actividad\n",
    "\n",
    "![activity_diagram](img/activity_diagram.png)"
   ]
  },
  {
   "cell_type": "markdown",
   "id": "92296895",
   "metadata": {
    "cell_style": "split",
    "slideshow": {
     "slide_type": "fragment"
    }
   },
   "source": [
    "#### Casos de uso: Diagramas de canal (swimlane)\n",
    "\n",
    "![swimlane_diagram](img/swimlane_diagram.png)"
   ]
  },
  {
   "cell_type": "markdown",
   "id": "930471e0",
   "metadata": {
    "cell_style": "split",
    "slideshow": {
     "slide_type": "slide"
    }
   },
   "source": [
    "##### Diseño de clases\n",
    "\n",
    "- Los **objetos** que el sistema manipula\n",
    "- Las **operaciones** que se aplicarán a los objetos\n",
    "- Las **relaciones jerárquicas** entre los objetos\n",
    "- Las **colaboraciones** que hay entre las clases definidas"
   ]
  },
  {
   "cell_type": "markdown",
   "id": "8b3d6fa1",
   "metadata": {
    "cell_style": "split",
    "slideshow": {
     "slide_type": "fragment"
    }
   },
   "source": [
    "![oop](img/oop.jpg)"
   ]
  },
  {
   "cell_type": "markdown",
   "id": "6fa23746",
   "metadata": {
    "cell_style": "split",
    "slideshow": {
     "slide_type": "slide"
    }
   },
   "source": [
    "#### Identificación de clases\n",
    "\n",
    "- Examinar casos de uso, brainstorming\n",
    "- Candidatos => Sustantivos o pronombres\n",
    "- Clases de análisis\n",
    "    - Describir el problema (qué?)\n",
    "- Clases de diseño\n",
    "    - Implementar la solución (cómo?)"
   ]
  },
  {
   "cell_type": "markdown",
   "id": "b3d1f942",
   "metadata": {
    "cell_style": "split",
    "slideshow": {
     "slide_type": "-"
    }
   },
   "source": [
    "![oop](img/iot_objects.png)"
   ]
  },
  {
   "cell_type": "markdown",
   "id": "ec1dd87a",
   "metadata": {
    "cell_style": "split",
    "slideshow": {
     "slide_type": "slide"
    }
   },
   "source": [
    "#### En donde se manifiestan las clases?\n",
    "\n",
    "- **Entidades externas**\n",
    "    - Producen o consumen información utilizada por el sistema\n",
    "- **Datos**\n",
    "    - Dominio de información del problema (mensajes, reportes, logs)\n",
    "- **Eventos**\n",
    "    - Ocurren durante la operación del sistema (alarmas, fallos, etc)\n",
    "    "
   ]
  },
  {
   "cell_type": "markdown",
   "id": "907f509f",
   "metadata": {
    "cell_style": "split",
    "slideshow": {
     "slide_type": "fragment"
    }
   },
   "source": [
    "- **Roles**\n",
    "    - Pertenecientes a personas o entidades que interactúan con el sistema\n",
    "- **Unidades organizacionales**\n",
    "    - Divisiones, grupos o equipos relevanes para la aplicación\n",
    "- **Lugares**\n",
    "    - Relevantes al contexto del problema y el sistema\n",
    "- **Estructuras**\n",
    "    - Definen cosas o grupos de cosas (sensores, imágenes, etc)"
   ]
  },
  {
   "cell_type": "markdown",
   "id": "7503be23",
   "metadata": {
    "slideshow": {
     "slide_type": "slide"
    }
   },
   "source": [
    "#### Clasificación de clases\n",
    "- *Entity classes*\n",
    "    - Se extraen del problema y casos de uso (**Sensor**, **Camera**, etc) \n",
    "    - \"*Business logic*\"\n",
    "- *Boundary classes*\n",
    "    - Interfaces para interactuar con el usuario (**CameraWindow**)\n",
    "    - Los *entity classes* no deben acoplarse a la interfaz de usuario (GUI, API, etc)\n",
    "- *Controller classes*\n",
    "    - Creación o actualización de *entity objects*\n",
    "    - Instanciación de *boundary objects*\n",
    "    - Comunicación compleja entre objetos"
   ]
  },
  {
   "cell_type": "markdown",
   "id": "81a7aa23",
   "metadata": {
    "cell_style": "center",
    "slideshow": {
     "slide_type": "slide"
    }
   },
   "source": [
    "#### Análisis gramatical de cantidatos de clases: SafeHome Alarm\n",
    "La **función de seguridad SafeHome** permite que el **propietario** *configure* el **sistema de seguridad** cuando se *instala*, *vigila* todos los **sensores** conectados al sistema de seguridad e *interactúa* con el propietario a través de **internet**, una **PC** o **panel de control**. Durante la instalación, la PC de SafeHome se utiliza para programar y configurar el **sistema**. Se *asigna* a cada sensor un **número** y **tipo**, se *programa* un **password maestro** para *activar* y *desactivar* el sistema y se *introducen* números telefónicos para *marcar* cuando ocurre un **evento de sensor**. Cuando se *reconoce* un evento de sensor, el software *invoca* una **alarma** audible instalada en el sistema. Después de un **tiempo de retraso** que especifica el propietario durante las actividades de configuración del sistema, el software *marca* un número telefónico de un **servicio de monitoreo**, proporciona **información** acerca de la **ubicación** y *reporta* la naturaleza del evento detectado. El número telefónico se vuelve a marcar cada 20 segundos hasta que se obtiene la **conexión telefónica**. El propietario *recibe* información de seguridad a través de un panel de control, la PC o un navegador, lo que en conjunto se llama **interfaz**. La interfaz *despliega* **mensajes de aviso** e **información del estado del sistema** en el panel de control, la PC o la ventana del navegador."
   ]
  },
  {
   "cell_type": "markdown",
   "id": "19b87854",
   "metadata": {
    "slideshow": {
     "slide_type": "slide"
    }
   },
   "source": [
    "#### Filtrado de candidatos de clases\n",
    "\n",
    "- Características de clases útiles\n",
    "    1. **Retienen información**: Debe guardarse información sobre ésta para que el sistema funcione.\n",
    "    2. **Involucran servicios**: Requieren un conjunto de operaciones que cambian los atributos.\n",
    "    3. **Múltiples atributos**: En general agrupan más de un dato o atributo.\n",
    "    4. **Atributos comunes**: Conjunto de atributos aplican para todas las instancias de la clase.\n",
    "    5. **Operaciones comunes**: Conjunto de operaciones aplican para todas las instancias de la clase."
   ]
  },
  {
   "cell_type": "markdown",
   "id": "108397cc",
   "metadata": {
    "cell_style": "split",
    "slideshow": {
     "slide_type": "slide"
    }
   },
   "source": [
    "#### Especificación de atributos\n",
    "- Describen a la clase en el contexto del problema\n",
    "- *Información* que razonablemente *pertenece* a la clase\n",
    "- Analizar casos de uso y usar el \"*sentido común*\"\n"
   ]
  },
  {
   "cell_type": "markdown",
   "id": "a957fd3b",
   "metadata": {
    "cell_style": "split",
    "slideshow": {
     "slide_type": "fragment"
    }
   },
   "source": [
    "#### Especificación de métodos\n",
    "- Describen el comportamiento de los objetos\n",
    "- Tipos de operaciones\n",
    "    - Manipular datos\n",
    "    - Computar resultados\n",
    "    - Responder a consultas sobre estado del objeto\n",
    "    - Monitorear la ocurrencia de un evento"
   ]
  },
  {
   "cell_type": "markdown",
   "id": "2bc6ccea",
   "metadata": {
    "cell_style": "split",
    "slideshow": {
     "slide_type": "slide"
    }
   },
   "source": [
    "#### Diagramas de clases\n",
    "\n",
    "- Resumen los atributos y los métodos de la clase\n",
    "- No se necesita mostrar las clases asociadas como atributos\n",
    "- Existen varios tipos de relaciones entre clases"
   ]
  },
  {
   "cell_type": "markdown",
   "id": "15966821",
   "metadata": {
    "cell_style": "split",
    "slideshow": {
     "slide_type": "fragment"
    }
   },
   "source": [
    "![system_class_diagram](img/system_class_diagram.png)"
   ]
  },
  {
   "cell_type": "markdown",
   "id": "f1687fa4",
   "metadata": {
    "cell_style": "split",
    "slideshow": {
     "slide_type": "slide"
    }
   },
   "source": [
    "#### Tipos de relación entre clases\n",
    "##### Asociación (y multiplicidad)\n",
    "- Relación estructural\n",
    "- Agregación y composición\n",
    "- Multiplicidad determina cuántos objetos de cada tipo intervienen en la relación"
   ]
  },
  {
   "cell_type": "markdown",
   "id": "ed2cd8cf",
   "metadata": {
    "cell_style": "split",
    "slideshow": {
     "slide_type": "-"
    }
   },
   "source": [
    "![association_multiplicity](img/association_multiplicity.png)"
   ]
  },
  {
   "cell_type": "markdown",
   "id": "a9195b27",
   "metadata": {
    "cell_style": "split",
    "slideshow": {
     "slide_type": "slide"
    }
   },
   "source": [
    "#### Tipos de asociación\n",
    "##### Agregación\n",
    "- La clase *child* puede existir independientemente de la clase *parent*\n",
    "- Ej: Aula (parent) y Estudiante (child)\n",
    "\n",
    "##### Composición\n",
    "- La clase *child* no puede existir independientemente de la clase *parent*\n",
    "- Ej: Casa (parent) y Cuarto (child)\n"
   ]
  },
  {
   "cell_type": "markdown",
   "id": "ce4ae73a",
   "metadata": {
    "cell_style": "split",
    "slideshow": {
     "slide_type": "fragment"
    }
   },
   "source": [
    "<p>&nbsp;</p>\n",
    "\n",
    "![association_types](img/association_types.png)"
   ]
  },
  {
   "cell_type": "markdown",
   "id": "3cece24f",
   "metadata": {
    "cell_style": "split",
    "slideshow": {
     "slide_type": "slide"
    }
   },
   "source": [
    "#### Dependencia\n",
    "- Relación de uso (cliente, servidor)\n",
    "![dependency](img/dependency.png)"
   ]
  },
  {
   "cell_type": "markdown",
   "id": "661a6bcd",
   "metadata": {
    "cell_style": "split",
    "slideshow": {
     "slide_type": "fragment"
    }
   },
   "source": [
    "#### Generalización\n",
    "- Relación de herencia\n",
    "![generalization](img/generalization.png)"
   ]
  },
  {
   "cell_type": "markdown",
   "id": "710c64c6",
   "metadata": {
    "slideshow": {
     "slide_type": "slide"
    }
   },
   "source": [
    "#### Navegabilidad en relaciones (UML)\n",
    "- Dirección de la relación entre clases\n",
    "![navigability](img/navigability.jpg)"
   ]
  },
  {
   "cell_type": "markdown",
   "id": "18dcc0ab",
   "metadata": {
    "cell_style": "split",
    "slideshow": {
     "slide_type": "slide"
    }
   },
   "source": [
    "![floorplan_analysis_class_diagram](img/floorplan_analysis_class_diagram.png)"
   ]
  },
  {
   "cell_type": "markdown",
   "id": "0a06757d",
   "metadata": {
    "cell_style": "split",
    "slideshow": {
     "slide_type": "fragment"
    }
   },
   "source": [
    "##### SafeHome Surveillance: Análisis -> Diseño\n",
    "![floorplan_design_class_diagram](img/floorplan_design_class_diagram.png)"
   ]
  },
  {
   "cell_type": "markdown",
   "id": "205037fb",
   "metadata": {
    "cell_style": "center",
    "slideshow": {
     "slide_type": "slide"
    }
   },
   "source": [
    "##### Modelos Class-Responsibility-Collaborator (CRC)\n",
    "- Colección de fichas para representar clases\n",
    "\n",
    "- Secciones\n",
    "    - Nombre de la clase\n",
    "    - Responsabilidades\n",
    "        - Lo que la clase sabe o hace\n",
    "    - Colaboradores\n",
    "        - La clase depende de los colaboradores (otras clases)\n",
    "        - Colaboración: Clase solicita información o acciones"
   ]
  },
  {
   "cell_type": "markdown",
   "id": "bb0a9f69",
   "metadata": {
    "cell_style": "center",
    "slideshow": {
     "slide_type": "slide"
    }
   },
   "source": [
    "![crc](img/crc.png)"
   ]
  },
  {
   "cell_type": "markdown",
   "id": "4727bf4b",
   "metadata": {
    "cell_style": "split",
    "slideshow": {
     "slide_type": "slide"
    }
   },
   "source": [
    "#### Cohesión :)\n",
    "- Grado en el que un módulo se enfoca en un solo objetivo (single-mindedness)\n",
    "- Un módulo cohesivo hace una o pocas tareas\n",
    "    - Conformado por elementos estrechamente relacionados, unidos por un propósito\n",
    "    - En la práctica, los componentes se suelen encargar de más de una tarea (balance)"
   ]
  },
  {
   "cell_type": "markdown",
   "id": "aa618626",
   "metadata": {
    "cell_style": "split",
    "slideshow": {
     "slide_type": "fragment"
    }
   },
   "source": [
    "<p>&nbsp;</p>\n",
    "\n",
    "![cohesion](img/cohesion.png)"
   ]
  },
  {
   "cell_type": "markdown",
   "id": "a7976eef",
   "metadata": {
    "cell_style": "split",
    "slideshow": {
     "slide_type": "slide"
    }
   },
   "source": [
    "#### Acoplamiento :(\n",
    "- Grado en el cual el módulo está interconectado con otros módulos\n",
    "- Relacionado con\n",
    "    - La complejidad de la interfaz entre módulos\n",
    "    - Los datos que se pasan a través de la interfaz\n",
    "    - La cantidad de referencias entre módulos"
   ]
  },
  {
   "cell_type": "markdown",
   "id": "c401531a",
   "metadata": {
    "cell_style": "split",
    "slideshow": {
     "slide_type": "fragment"
    }
   },
   "source": [
    "![tight_coupling](img/tight_coupling.png)\n",
    "\n",
    "![loose_coupling](img/loose_coupling.png)"
   ]
  },
  {
   "cell_type": "markdown",
   "id": "41472906",
   "metadata": {
    "cell_style": "split",
    "slideshow": {
     "slide_type": "slide"
    }
   },
   "source": [
    "##### Principios de diseño de componentes\n",
    "- [[Paper] Design Principles and Design Patterns](https://mv1.mediacionvirtual.ucr.ac.cr/mod/resource/view.php?id=1628400) (Robert C. Martin, 2000)\n",
    "- [[Youtube] Uncle Bob SOLID principles](https://youtu.be/QHnLmvDxGTY?t=745)\n",
    "- **Cinco principios de diseño** para hacer diseños más legibles, flexibles y mantenibles.\n",
    "- [Agile Software Development (Capítulos 8-12)](https://mv1.mediacionvirtual.ucr.ac.cr/mod/resource/view.php?id=1628447)"
   ]
  },
  {
   "cell_type": "markdown",
   "id": "dc2481bb",
   "metadata": {
    "cell_style": "split",
    "slideshow": {
     "slide_type": "-"
    }
   },
   "source": [
    "![solid](img/solid.png)"
   ]
  },
  {
   "cell_type": "markdown",
   "id": "7f6ab02d",
   "metadata": {
    "cell_style": "split",
    "slideshow": {
     "slide_type": "slide"
    }
   },
   "source": [
    "#### Síntomas de un mal diseño (*rotting design*)\n",
    "1. **Rigidez**: Tendencia a que el software sea difícil de cambiar, incluso en casos sencillos\n",
    "2. **Fragilidad**: Tendencia a que el software se rompa en múltiples lugares cada vez que se cambia\n",
    "3. **Inmovilidad**: Incapacidad para reutilizar software de otros proyectos o de partes del mismo proyecto\n",
    "4. **Viscosidad**: Dificultad para aplicar cambios que preserven el diseño del proyecto"
   ]
  },
  {
   "cell_type": "markdown",
   "id": "b2d73c14",
   "metadata": {
    "cell_style": "split",
    "slideshow": {
     "slide_type": "-"
    }
   },
   "source": [
    "<p>&nbsp;</p>\n",
    "\n",
    "![bad_design](img/bad_design.jpg)"
   ]
  },
  {
   "cell_type": "markdown",
   "id": "19df2d97",
   "metadata": {
    "cell_style": "center",
    "slideshow": {
     "slide_type": "slide"
    }
   },
   "source": [
    "##### Single Responsibility Principle (SRP)\n",
    "\n",
    "\"*Una clase debe tener una sola razón para cambiar*\"\n",
    "\n",
    "- Razón para cambiar => Responsabilidad\n",
    "- SRP => Alta cohesión"
   ]
  },
  {
   "cell_type": "markdown",
   "id": "6fc085de",
   "metadata": {
    "cell_style": "split",
    "slideshow": {
     "slide_type": "slide"
    }
   },
   "source": [
    "![srp_more_than_one_resp](img/srp_more_than_one_resp.png)"
   ]
  },
  {
   "cell_type": "markdown",
   "id": "44ce8ccb",
   "metadata": {
    "cell_style": "split",
    "slideshow": {
     "slide_type": "fragment"
    }
   },
   "source": [
    "![srp_separate_resp](img/srp_separate_resp.png)"
   ]
  },
  {
   "cell_type": "markdown",
   "id": "bf1da624",
   "metadata": {
    "slideshow": {
     "slide_type": "fragment"
    }
   },
   "source": [
    "#### [Single Responsibility Principle (SRP) en Python](https://www.pythontutorial.net/python-oop/python-single-responsibility-principle/)"
   ]
  },
  {
   "cell_type": "markdown",
   "id": "35394646",
   "metadata": {
    "slideshow": {
     "slide_type": "slide"
    }
   },
   "source": [
    "##### Open-Closed Principle (OCP)\n",
    "\"*Las entidades de software deben ser abiertas para extensión, cerradas para modificación*\"\n",
    "\n",
    "- Nueva funcionalidad se logra agregando nuevo código, no cambiando código que ya funciona.\n",
    "- La *abstracción* y el *polimorfismo* son la clave\n",
    "    - Punteros a funciones (C)\n",
    "    - Clases abstractas (C++, Python)\n",
    "    - Interfaces (Java, Go, C#)\n",
    "- OCP => Bajo acoplamiento"
   ]
  },
  {
   "cell_type": "markdown",
   "id": "83c81ccd",
   "metadata": {
    "cell_style": "split",
    "slideshow": {
     "slide_type": "slide"
    }
   },
   "source": [
    "![ocp_not_open_closed](img/ocp_not_open_closed.png)"
   ]
  },
  {
   "cell_type": "markdown",
   "id": "9be9c088",
   "metadata": {
    "cell_style": "split",
    "slideshow": {
     "slide_type": "fragment"
    }
   },
   "source": [
    "![ocp_open_closed](img/ocp_open_closed.png)"
   ]
  },
  {
   "cell_type": "markdown",
   "id": "445faf4d",
   "metadata": {
    "slideshow": {
     "slide_type": "fragment"
    }
   },
   "source": [
    "#### [Open-Closed Principle (OCP) en Python](https://www.pythontutorial.net/python-oop/python-open-closed-principle/)"
   ]
  },
  {
   "cell_type": "markdown",
   "id": "a9419273",
   "metadata": {
    "cell_style": "split",
    "slideshow": {
     "slide_type": "slide"
    }
   },
   "source": [
    "#### Interfaces\n",
    "- Conjunto de métodos que representan cierta funcionalidad\n",
    "- Se dice que una clase *implementa* o no una interfaz\n",
    "- Soportadas nativamente en lenguajes como Java, Go y C#.\n",
    "- Soportadas indirectamente con clases abstractas en lenguajes como C++ y Pyton"
   ]
  },
  {
   "cell_type": "markdown",
   "id": "9e35be19",
   "metadata": {
    "cell_style": "split",
    "slideshow": {
     "slide_type": "fragment"
    }
   },
   "source": [
    "<p>&nbsp;</p>\n",
    "\n",
    "![interfaces_vs_abstract_class](img/interfaces_vs_abstract_class.png)"
   ]
  },
  {
   "cell_type": "markdown",
   "id": "cd5e7f0b",
   "metadata": {
    "slideshow": {
     "slide_type": "slide"
    }
   },
   "source": [
    "##### Liskov Substitution Principle (LSP)\n",
    "\"*Las clases derivadas deben poder usarse en lugar de la clase base*\"\n",
    "\n",
    "- Si no se cumple se viola también el OCP (código abierto a modificación)\n",
    "    - If/else para identificar el tipo de la clase derivada"
   ]
  },
  {
   "cell_type": "markdown",
   "id": "6e76cdaa",
   "metadata": {
    "slideshow": {
     "slide_type": "fragment"
    }
   },
   "source": [
    "#### [Liskov Substitution Principle (LSP) en Python](https://www.pythontutorial.net/python-oop/python-liskov-substitution-principle/)"
   ]
  },
  {
   "cell_type": "markdown",
   "id": "3bc6c65e",
   "metadata": {
    "slideshow": {
     "slide_type": "slide"
    }
   },
   "source": [
    "##### Interface Segregation Principle (ISP)\n",
    "\n",
    "\"*Los clientes de las interfaces no deben ser forzadas a depender de métodos que no usan*\"\n",
    "\n",
    "- Las interfaces deben ser tan pequeñas como sea posible\n",
    "- ISP => Alta cohesión"
   ]
  },
  {
   "cell_type": "markdown",
   "id": "0dc39eb9",
   "metadata": {
    "slideshow": {
     "slide_type": "fragment"
    }
   },
   "source": [
    "#### [Interface Segregation Principle (ISP) en Python](https://www.pythontutorial.net/python-oop/python-interface-segregation-principle/)"
   ]
  },
  {
   "cell_type": "markdown",
   "id": "627d9800",
   "metadata": {
    "slideshow": {
     "slide_type": "slide"
    }
   },
   "source": [
    "##### Dependency Inversion Principle (DIP)\n",
    "a. \"*Módulos de alto nivel no deben depender de módulos de bajo nivel. Ambos deben depender de abstracciones*\" <br>\n",
    "b. \"*Las abstracciones no deben depender de detalles. Los detalles deben depender de abstracciones*\"\n",
    "\n",
    "- Inversión: Los módulos de alto nivel definen las interfaces, los de bajo nivel ahora dependen de éstas\n",
    "- Depender de abstracciones en lugar de clases concretas\n",
    "- DIP => Bajo acoplamiento\n"
   ]
  },
  {
   "cell_type": "markdown",
   "id": "bf43ff13",
   "metadata": {
    "cell_style": "split",
    "slideshow": {
     "slide_type": "slide"
    }
   },
   "source": [
    "![dip_naive_layering](img/dip_naive_layering.png)\n"
   ]
  },
  {
   "cell_type": "markdown",
   "id": "175b8d32",
   "metadata": {
    "cell_style": "split",
    "slideshow": {
     "slide_type": "fragment"
    }
   },
   "source": [
    "![dip_inverted_layering](img/dip_inverted_layering.png)"
   ]
  },
  {
   "cell_type": "markdown",
   "id": "a60fd13f",
   "metadata": {
    "slideshow": {
     "slide_type": "fragment"
    }
   },
   "source": [
    "\n",
    "#### [Dependency Inversion Principle (DIP) en Python](https://www.pythontutorial.net/python-oop/python-dependency-inversion-principle/)"
   ]
  },
  {
   "cell_type": "markdown",
   "id": "ee3d2115",
   "metadata": {
    "cell_style": "center",
    "slideshow": {
     "slide_type": "slide"
    }
   },
   "source": [
    "##### Patrones de diseño de componentes\n",
    "- Solución general y reutilizable a problemas comunes que ocurren en diseño de clases\n",
    "- Concepto de patrón surge de el campo de la arquitectura (Christopher Alexander, 1977)\n",
    "- Tomaron popularidad en el software con el libro del \"Gang of Four\" (23 patrones)\n",
    "    - *Design Patterns: Elements of Reusable Object-Oriented Software*, 1994"
   ]
  },
  {
   "cell_type": "markdown",
   "id": "c414bcc8",
   "metadata": {
    "cell_style": "split",
    "slideshow": {
     "slide_type": "slide"
    }
   },
   "source": [
    "![pattern_language](img/pattern_language.jpg)"
   ]
  },
  {
   "cell_type": "markdown",
   "id": "175a3655",
   "metadata": {
    "cell_style": "split",
    "slideshow": {
     "slide_type": "fragment"
    }
   },
   "source": [
    "![design_patterns_gof](img/design_patterns_gof.jpg)"
   ]
  },
  {
   "cell_type": "markdown",
   "id": "505bd3a0",
   "metadata": {
    "slideshow": {
     "slide_type": "slide"
    }
   },
   "source": [
    "##### Tipos de patrones de diseño\n",
    "- **Patrones creationales (creational)**: Proveen la capacidad de crear objetos basado en cierto critero y de manera controlada\n",
    "    - Ej: *Abstract Factory*, *Factory Method*, *Builder*, *Singleton*, etc\n",
    "- **Patrones estructurales (structural)**: Tratan sobre la organización de clases para formar estructuras compuestas y proveer nueva funcionalidad.\n",
    "    - Ej: *Adapter*, *Decorator*, *Facade*, *Proxy*, etc\n",
    "- **Patrones de comportamiento (behavioral)**: Tratan sobre identificar patrones de interacción entre objetos.\n",
    "    - Ej: *Observer*, *Iterator*, *Command*, *Strategy*, *Template*, *Visitor*, etc\n",
    "\n",
    "[Catálogo de patrones de diseño [refactoring.guru]](https://refactoring.guru/design-patterns)"
   ]
  },
  {
   "cell_type": "markdown",
   "id": "b935f3a9",
   "metadata": {
    "cell_style": "center",
    "slideshow": {
     "slide_type": "slide"
    }
   },
   "source": [
    "#### Ejemplo patrón de diseño: Observer\n",
    "\n",
    "- *Qué problemas puede resolver?*\n",
    "    - Cuando se tiene que definir una dependencia de 1:N objetos sin acoplarlos estrechamente.\n",
    "    - Cuando se ocupa que cuando un objeto cambie su estado, un número indefinido de objetos se actualicen automáticamente\n",
    "    - Cuando se ocupa que un objeto notifique un mensaje a un número indefinido de objetos.\n",
    "\n",
    "- *Qué solución describe?*\n",
    "    - Definir las clases **Subject** y **Observer**.\n",
    "    - Cuando **Subject** cambia de estado, todos los **Observers** son notificados automáticamente."
   ]
  },
  {
   "cell_type": "markdown",
   "id": "81c9305d",
   "metadata": {
    "cell_style": "split",
    "slideshow": {
     "slide_type": "slide"
    }
   },
   "source": [
    "![observer_pattern](img/observer_pattern.png)"
   ]
  },
  {
   "cell_type": "markdown",
   "id": "610a2f58",
   "metadata": {
    "cell_style": "split",
    "slideshow": {
     "slide_type": "fragment"
    }
   },
   "source": [
    "![observer_pattern_classes](img/observer_pattern_classes.jpg)"
   ]
  },
  {
   "cell_type": "markdown",
   "id": "ca1cd58c",
   "metadata": {
    "slideshow": {
     "slide_type": "slide"
    }
   },
   "source": [
    "![observer_pattern_seq](img/observer_pattern_seq.png)"
   ]
  },
  {
   "cell_type": "code",
   "execution_count": null,
   "id": "c6a4ccda",
   "metadata": {
    "slideshow": {
     "slide_type": "slide"
    }
   },
   "outputs": [],
   "source": [
    "class Observable:\n",
    "    def __init__(self):\n",
    "        self._observers = []\n",
    "\n",
    "    def register_observer(self, observer):\n",
    "        self._observers.append(observer)\n",
    "\n",
    "    def notify_observers(self, *args, **kwargs):\n",
    "        for obs in self._observers:\n",
    "            obs.notify(self, *args, **kwargs)\n",
    "\n",
    "class Observer:\n",
    "    def __init__(self, observable):\n",
    "        observable.register_observer(self)\n",
    "\n",
    "    def notify(self, observable, *args, **kwargs):\n",
    "        print(\"Got\", args, kwargs, \"From\", observable)\n",
    "\n",
    "subject = Observable()\n",
    "observer1 = Observer(subject)\n",
    "observer2 = Observer(subject)\n",
    "subject.notify_observers(\"test\", kw=\"python\")"
   ]
  }
 ],
 "metadata": {
  "celltoolbar": "Slideshow",
  "kernelspec": {
   "display_name": "Python 3 (ipykernel)",
   "language": "python",
   "name": "python3"
  },
  "language_info": {
   "codemirror_mode": {
    "name": "ipython",
    "version": 3
   },
   "file_extension": ".py",
   "mimetype": "text/x-python",
   "name": "python",
   "nbconvert_exporter": "python",
   "pygments_lexer": "ipython3",
   "version": "3.8.10"
  }
 },
 "nbformat": 4,
 "nbformat_minor": 5
}
