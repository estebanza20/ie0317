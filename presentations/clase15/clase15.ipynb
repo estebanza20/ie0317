{
 "cells": [
  {
   "cell_type": "markdown",
   "id": "de2a7914",
   "metadata": {
    "slideshow": {
     "slide_type": "slide"
    }
   },
   "source": [
    "## Debugging con GDB"
   ]
  },
  {
   "cell_type": "markdown",
   "id": "3a92edac",
   "metadata": {
    "cell_style": "split",
    "slideshow": {
     "slide_type": "slide"
    }
   },
   "source": [
    "- [GDB: The GNU Project Debugger](https://www.sourceware.org/gdb/)\n",
    "- Crítico para resolver problemas complejos en programas de C.\n",
    "- CLI (comando gdb / gdb -tui) o GUI (gdbgui, editors, etc).\n",
    "- Manual [Debugging with GDB](https://sourceware.org/gdb/current/onlinedocs/gdb/)"
   ]
  },
  {
   "cell_type": "markdown",
   "id": "803c5bd1",
   "metadata": {
    "cell_style": "split",
    "slideshow": {
     "slide_type": "-"
    }
   },
   "source": [
    "![gnu_gdb_logo](img/gnu-gdb-logo.jpg)"
   ]
  },
  {
   "cell_type": "markdown",
   "id": "94587ed5",
   "metadata": {
    "slideshow": {
     "slide_type": "slide"
    }
   },
   "source": [
    "### Builds para debug en CMake\n",
    "- En programas construidos con CMake, debemos ajustar el tipo de build:\n",
    "    - Mantener los símbolos de debug.\n",
    "    - Desactivar optimizaciones para mantener el flujo original.\n",
    "    - Comando: `cmake -DCMAKE_BUILD_TYPE=Debug ..`"
   ]
  },
  {
   "cell_type": "markdown",
   "id": "56e1ca09",
   "metadata": {
    "cell_style": "center",
    "slideshow": {
     "slide_type": "slide"
    }
   },
   "source": [
    "### gdb CLI\n",
    "- Correr gdb con un ejecutable (incluyendo argumentos)\n",
    "   - `gdb --args <executable>`\n",
    "   - Ej: `gdb --args ./tools/sensor_cmds/sensor_cmds -c ../config/sensors_cfg.json`\n",
    "- Correr gdb TUI (Text User Interface)\n",
    "    - Manual)[https://sourceware.org/gdb/onlinedocs/gdb/TUI.html]\n",
    "    - \n"
   ]
  },
  {
   "cell_type": "markdown",
   "id": "81a53794",
   "metadata": {
    "cell_style": "center",
    "slideshow": {
     "slide_type": "slide"
    }
   },
   "source": [
    "### gdb GUI\n",
    "- gdbgui: Frontend web para GDB\n",
    "- Instalación\n",
    "    - `python3 -m venv gdb_venv`\n",
    "    - `source gdb_venv/bin/activate`\n",
    "    - `pip install werkzeug==2.0.0 gdbgui`\n",
    "-  Levantar servidor\n",
    "    - `gdbgui --host 0.0.0.0`\n"
   ]
  },
  {
   "cell_type": "markdown",
   "id": "418c4f0a",
   "metadata": {
    "cell_style": "center",
    "slideshow": {
     "slide_type": "slide"
    }
   },
   "source": [
    "### Comandos básicos\n",
    "- Mostrar ayuda\n",
    "    - `help`\n",
    "- Iniciar el programa\n",
    "    - `start`\n",
    "- Print symbol\n",
    "    - `p <symbol>`"
   ]
  },
  {
   "cell_type": "markdown",
   "id": "aa4fdc5b",
   "metadata": {
    "cell_style": "center",
    "slideshow": {
     "slide_type": "slide"
    }
   },
   "source": [
    "### Breakpoints\n",
    "- Setear breakpoint en ubicación\n",
    "  - `br <symbol/file>`\n",
    "     - Ej: `br zmq_server_rep_pthread.c:63`\n",
    "     - Ej: `br zframe_recv`\n",
    "- Obtener breakpoints actuales\n",
    "  - `info br`\n",
    "- Eliminar breakpoints\n",
    "  - `delete br [<br_num>]`"
   ]
  },
  {
   "cell_type": "markdown",
   "id": "a07ca121",
   "metadata": {
    "cell_style": "center",
    "slideshow": {
     "slide_type": "slide"
    }
   },
   "source": [
    "### Watchpoints\n",
    "- Obtener watchpoints actuales\n",
    "  - `info watch`\n",
    "- Setear watchpoints en símbolo o condición\n",
    "  - `watch <symbol>`\n",
    "    - Ej: `watch rep->val_a`"
   ]
  },
  {
   "cell_type": "markdown",
   "id": "2c6a9d1e",
   "metadata": {
    "cell_style": "center",
    "slideshow": {
     "slide_type": "slide"
    }
   },
   "source": [
    "### Memoria\n",
    "- Examinar memoria\n",
    "    - `x/nfu addr`\n",
    "        - Ej: `x/10xw 0x7ffff0006740`"
   ]
  },
  {
   "cell_type": "markdown",
   "id": "61f1eec2",
   "metadata": {
    "cell_style": "center",
    "slideshow": {
     "slide_type": "slide"
    }
   },
   "source": [
    "### Debug de backtrace\n",
    "- Obtener backtrace para el thread actual\n",
    "   - `bt`\n",
    "- Obtener información del frame actual\n",
    "   - `frame`\n",
    "- Setear frame actual\n",
    "    - `frame <frame_num>`"
   ]
  },
  {
   "cell_type": "markdown",
   "id": "906faa38",
   "metadata": {
    "cell_style": "center",
    "slideshow": {
     "slide_type": "subslide"
    }
   },
   "source": [
    "### Debug de instrucciones\n",
    "- Revisar código de ensamblador para una función o dirección\n",
    "  - `disassemble <symbol>`\n",
    "    - Ej: `disassemble msg_server_fn`\n",
    "- Print CPU registers\n",
    "  - `info reg`"
   ]
  },
  {
   "cell_type": "markdown",
   "id": "f48e076c",
   "metadata": {
    "cell_style": "center",
    "slideshow": {
     "slide_type": "slide"
    }
   },
   "source": [
    "### Debug de threads\n",
    "- Obtener los threads actuales\n",
    "  - `info threads`\n",
    "- Aplicar comando a todos los threads\n",
    "  - `thread apply all <command>`\n",
    "    - Ej: `thread apply all bt`\n",
    "  - Setear el thread actual\n",
    "    - `thread <thread_num>`"
   ]
  },
  {
   "cell_type": "markdown",
   "id": "2dcd2ccc",
   "metadata": {
    "cell_style": "split",
    "slideshow": {
     "slide_type": "slide"
    }
   },
   "source": [
    "### Práctica GDB\n",
    "#### Ejercicio 1 (sensor commands)\n",
    "- `gdb --args ./tools/sensor_cmds/sensor_cmds -c ../config/sensors_cfg.json`\n",
    "- `start`\n",
    "- `br ssr_read_cmd_exec_fn`\n",
    "- `continue`\n",
    "- step (s) hasta llegar a sensor read\n",
    "- next (n) hasta llegar a `return state->value`"
   ]
  },
  {
   "cell_type": "markdown",
   "id": "4c76eabb",
   "metadata": {
    "cell_style": "split",
    "slideshow": {
     "slide_type": "fragment"
    }
   },
   "source": [
    "- `print *info`\n",
    "- `print *state`\n",
    "- `bt`\n",
    "- `frame 2`\n",
    "- `print *ssr`\n",
    "- `frame 4`\n",
    "- `print *cmd_runner`\n",
    "- `print *cmd`       \n",
    "- `frame 0`\n",
    "- `disassemble level_sensor_read`"
   ]
  },
  {
   "cell_type": "markdown",
   "id": "5eaf599b",
   "metadata": {
    "cell_style": "split",
    "slideshow": {
     "slide_type": "slide"
    }
   },
   "source": [
    "- `print reg`\n",
    "- `thread apply all bt`\n",
    "- Saltar al thread de main\n",
    "  - `thread 1`\n",
    "- `bt`\n",
    "- `frame 1`\n",
    "- `print *cmd_runner`\n",
    "- `frame 2`\n",
    "- `print commands`"
   ]
  },
  {
   "cell_type": "markdown",
   "id": "f759ae0c",
   "metadata": {
    "cell_style": "split",
    "slideshow": {
     "slide_type": "fragment"
    }
   },
   "source": [
    "- Revisar sensor dentro del comando 2\n",
    "  - `p *(((struct ssr_read_cmd_data *)(commands[1]->data))->ssr)`\n",
    "- Saltar al thread de command runner otra vez\n",
    "  - `thread 2`\n",
    "- `bt`\n",
    "- `delete br`\n",
    "- `continue`"
   ]
  },
  {
   "cell_type": "markdown",
   "id": "e0ea7294",
   "metadata": {
    "slideshow": {
     "slide_type": "slide"
    }
   },
   "source": [
    "### Ejercicio 2\n",
    "- Comentar check (`cmd->execute == NULL`) en `command_runner.c:174`\n",
    "- Reconstruir sensor_commands\n",
    "- `gdb --args ./tools/sensor_cmds/sensor_cmds -c ../config/sensors_cfg.json`\n",
    "- `start`\n",
    "- `bt`\n",
    "- `frame 1`\n",
    "- `print *cmd`\n",
    "- `disassemble`\n",
    "- `info reg`"
   ]
  },
  {
   "cell_type": "markdown",
   "id": "6fe0e3db",
   "metadata": {
    "slideshow": {
     "slide_type": "slide"
    }
   },
   "source": [
    "### Ejercicio 3\n",
    "- Descomentar check (`cmd->execute == NULL`) en `command_runner.c:174`\n",
    "- Reconstruir sensor_commands\n",
    "- `gdb --args ./tools/sensor_cmds/sensor_cmds -c ../config/sensors_cfg.json`\n",
    "  - `start`\n",
    "  - `br sensor_command_experiment`\n",
    "  - next hasta inicializar commands (linea 77)\n",
    "  - `watch commands[2]`\n",
    "  - `continue`\n"
   ]
  },
  {
   "cell_type": "markdown",
   "id": "9357a9b1",
   "metadata": {
    "slideshow": {
     "slide_type": "slide"
    }
   },
   "source": [
    "  - `print *cmd`\n",
    "  - `print i`\n",
    "  - `print *commands[i]`"
   ]
  }
 ],
 "metadata": {
  "celltoolbar": "Slideshow",
  "kernelspec": {
   "display_name": "Python 3 (ipykernel)",
   "language": "python",
   "name": "python3"
  },
  "language_info": {
   "codemirror_mode": {
    "name": "ipython",
    "version": 3
   },
   "file_extension": ".py",
   "mimetype": "text/x-python",
   "name": "python",
   "nbconvert_exporter": "python",
   "pygments_lexer": "ipython3",
   "version": "3.8.10"
  }
 },
 "nbformat": 4,
 "nbformat_minor": 5
}
