{
 "cells": [
  {
   "cell_type": "markdown",
   "id": "2a790a63",
   "metadata": {
    "slideshow": {
     "slide_type": "slide"
    }
   },
   "source": [
    "## Desarrollo de proyectos en Python"
   ]
  },
  {
   "cell_type": "markdown",
   "id": "5054a7cc",
   "metadata": {
    "slideshow": {
     "slide_type": "slide"
    }
   },
   "source": [
    "#### Python modules\n",
    "- Archivos con definiciones y variables que se pueden importar\n",
    "- `__name__`: Nombre del módulo\n",
    "- `__name__ == \"__main__\"`: Nombre especial para módulo en ejecución como script\n",
    "- `import example`: Importar módulo `example`\n",
    "- `from example import demo`: Importar definición `demo` del módulo `example`\n",
    "- `dir(example)`: Nombres definodos por el módulo `example`\n",
    "\n",
    "[Python Modules](https://docs.python.org/3/tutorial/modules.html)"
   ]
  },
  {
   "cell_type": "markdown",
   "id": "b896a9bf",
   "metadata": {
    "slideshow": {
     "slide_type": "slide"
    }
   },
   "source": [
    "#### Python Import packages\n",
    "- `__init__.py`: Permite que una carpeta se comporte como un módulo\n",
    "- `__all__`: Variable especial que contiene la lista de definiciones por exportar\n",
    "    - Estas son las que se importan al correr `from module import *`\n",
    "- `from . import demo`: Importa módulo `demo` de la carpeta actual (relativo)\n",
    "- `from .. import command`: Importa módulo `command` de la carpeta parent (relativo)\n",
    "- `from ..utils import msg`: Importa definición `msg` de un módulo en la carpeta parent (`utils`)\n",
    "- Import package != Distribution package\n",
    "\n",
    "[Python Import Packages](https://docs.python.org/3/tutorial/modules.html#packages)"
   ]
  },
  {
   "cell_type": "markdown",
   "id": "243e53fa",
   "metadata": {
    "slideshow": {
     "slide_type": "slide"
    }
   },
   "source": [
    "#### Pip\n",
    "- Instalador de paquetes más utilizado\n",
    "- Paquetes del Python Package Index ([PyPI](https://pypi.org/))\n",
    "- `pip install test_project==1.4`: Instala la versión 1.4 del paquete `test_project`\n",
    "- `pip install .` o ` pip install -e .`: Instala un paquete definido localmente (setup.py)\n",
    "\n",
    "\n",
    "[Pip - Getting Started](https://pip.pypa.io/en/stable/getting-started/)"
   ]
  },
  {
   "cell_type": "markdown",
   "id": "35b9f104",
   "metadata": {
    "slideshow": {
     "slide_type": "slide"
    }
   },
   "source": [
    "#### Python Virtual Environments\n",
    "- Permiten generar un ambiente aislado de instalación de paquetes\n",
    "- Dentro del `venv` los comandos como `pip` operan sobre el ambiente aislado\n",
    "- Permite lidiar con requerimientos de versiones y compatibilidad\n",
    "- `python3 -m venv test_env`: Crea un virtual environment llamado `test_env`\n",
    "- `source test_env/bin/activate`: Activa el virtual environment\n",
    "- `deactivate`: Desactiva el virtual environment actual\n",
    "\n",
    "[Python Virtual Environments](https://docs.python.org/3/tutorial/venv.html)"
   ]
  },
  {
   "cell_type": "markdown",
   "id": "009ec07f",
   "metadata": {
    "cell_style": "split",
    "slideshow": {
     "slide_type": "slide"
    }
   },
   "source": [
    "#### Python Distribution Packages\n",
    "- Permiten distribuir paquetes, módulos y archivos del proyecto\n",
    "    - Es lo que almacenan los servidores de PyPI\n",
    "    - Source package o binary package\n",
    "    - sdist (tar.gz), wheel (whl, zip)\n",
    "- Wheel:  Formato de paquetes que permite contener binarios (compiled artifacts)\n",
    "- [setuptools](https://setuptools.pypa.io/en/latest/): Biblioteca y utils para generar paquetes de distribución\n",
    "    - setup.cfg, setup.py: Archivos de metadatos para describir el distribution package\n",
    "    \n"
   ]
  },
  {
   "cell_type": "markdown",
   "id": "4c0a11d9",
   "metadata": {
    "cell_style": "split",
    "slideshow": {
     "slide_type": "-"
    }
   },
   "source": [
    "<p>&nbsp;</p>\n",
    "<p>&nbsp;</p>\n",
    "\n",
    "[Python Packaging - Overview](https://packaging.python.org/en/latest/overview/)\n",
    "\n",
    "[Python Packaging - Tutorial](https://packaging.python.org/en/latest/tutorials/packaging-projects/)\n",
    "\n",
    "[Python Packaging - Glossary](https://packaging.python.org/en/latest/glossary/)"
   ]
  }
 ],
 "metadata": {
  "celltoolbar": "Slideshow",
  "kernelspec": {
   "display_name": "Python 3 (ipykernel)",
   "language": "python",
   "name": "python3"
  },
  "language_info": {
   "codemirror_mode": {
    "name": "ipython",
    "version": 3
   },
   "file_extension": ".py",
   "mimetype": "text/x-python",
   "name": "python",
   "nbconvert_exporter": "python",
   "pygments_lexer": "ipython3",
   "version": "3.8.10"
  }
 },
 "nbformat": 4,
 "nbformat_minor": 5
}
