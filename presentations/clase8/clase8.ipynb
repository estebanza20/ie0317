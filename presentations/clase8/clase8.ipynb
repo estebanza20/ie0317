{
 "cells": [
  {
   "cell_type": "markdown",
   "id": "a33c676c",
   "metadata": {
    "slideshow": {
     "slide_type": "slide"
    }
   },
   "source": [
    "## Programación avanzada en Python"
   ]
  },
  {
   "cell_type": "markdown",
   "id": "a3b88347",
   "metadata": {
    "slideshow": {
     "slide_type": "slide"
    }
   },
   "source": [
    "### Introducción a multithreading\n",
    "![mt](img/mt.png)"
   ]
  },
  {
   "cell_type": "markdown",
   "id": "55f03292",
   "metadata": {
    "slideshow": {
     "slide_type": "slide"
    }
   },
   "source": [
    "### Call stacks en Python\n",
    "\n",
    "![python_call_stack](img/python_call_stack.png)"
   ]
  },
  {
   "cell_type": "markdown",
   "id": "25ec9179",
   "metadata": {
    "slideshow": {
     "slide_type": "slide"
    }
   },
   "source": [
    "### Concurrencia vs paralelismo\n",
    "\n",
    "![concurrent_vs_parallel](img/concurrent_vs_parallel.png)"
   ]
  },
  {
   "cell_type": "markdown",
   "id": "b5418e85",
   "metadata": {
    "cell_style": "split",
    "slideshow": {
     "slide_type": "slide"
    }
   },
   "source": [
    "### Multithreading en Python\n",
    "\n",
    "[Multithreading Python Tutorial](https://realpython.com/intro-to-python-threading/)"
   ]
  },
  {
   "cell_type": "code",
   "execution_count": null,
   "id": "b77e74f2",
   "metadata": {
    "cell_style": "split",
    "slideshow": {
     "slide_type": "-"
    }
   },
   "outputs": [],
   "source": [
    "import time\n",
    "import threading\n",
    "\n",
    "\n",
    "threads = list()\n",
    "n_secs = 5\n",
    "\n",
    "def thread_function(index: int, n_secs: int):\n",
    "    print(f\"Thread {index}: starting\")\n",
    "    time.sleep(n_secs)\n",
    "    print(f\"Thread {index}: finishing\")\n",
    "\n",
    "t1 = threading.Thread(target=thread_function, args=(1,n_secs))\n",
    "t1.start()\n",
    "t2 = threading.Thread(target=thread_function, args=(2,n_secs))\n",
    "t2.start()\n",
    "\n",
    "print(f\"Main: before joining thread 1\")\n",
    "t1.join()\n",
    "print(f\"Main: before joining thread 2\")\n",
    "t2.join()\n",
    "print(f\"Main: finished\")"
   ]
  },
  {
   "cell_type": "markdown",
   "id": "5f372b43",
   "metadata": {
    "slideshow": {
     "slide_type": "slide"
    }
   },
   "source": [
    "### Event loops\n",
    "\n",
    "![event_loop](img/event_loop_thread.png)"
   ]
  },
  {
   "cell_type": "markdown",
   "id": "5d23c872",
   "metadata": {
    "slideshow": {
     "slide_type": "slide"
    }
   },
   "source": [
    "### \"Race condition\" al incrementar un contador\n",
    "\n",
    "![mt_race_cond](img/mt_race_cond_counter.png)"
   ]
  },
  {
   "cell_type": "markdown",
   "id": "b9a902ea",
   "metadata": {
    "slideshow": {
     "slide_type": "slide"
    }
   },
   "source": [
    "### Lock de exclusión mutua (mutex lock)\n",
    "\n",
    "![mt_race_cond](img/mutex.png)"
   ]
  },
  {
   "cell_type": "markdown",
   "id": "c359d164",
   "metadata": {
    "cell_style": "split",
    "slideshow": {
     "slide_type": "slide"
    }
   },
   "source": [
    "### Funciones de orden superior en Python\n",
    "- En Python, las funciones son \"objetos de primera clase\".\n",
    "- Las funciones pueden recibir otras funciones como parámetros.\n",
    "- Esto es fundamental para tratar con código genérico."
   ]
  },
  {
   "cell_type": "code",
   "execution_count": null,
   "id": "8d14097d",
   "metadata": {
    "cell_style": "split",
    "slideshow": {
     "slide_type": "-"
    }
   },
   "outputs": [],
   "source": [
    "import operator\n",
    "from typing import Callable\n",
    "\n",
    "def op_higher_order_func(bop_func: Callable, a, b, c=1):\n",
    "    return c * op_func(a, b)\n",
    "\n",
    "r = op_higher_order_func(operator.add, 1, 2)\n",
    "print(f\"Result 1: {r}\")\n",
    "\n",
    "r = op_higher_order_func(operator.sub, 1, 2, 4)\n",
    "print(f\"Result 2: {r}\")"
   ]
  },
  {
   "cell_type": "markdown",
   "id": "0dd16a29",
   "metadata": {
    "cell_style": "split",
    "slideshow": {
     "slide_type": "slide"
    }
   },
   "source": [
    "### Closures\n",
    "- Una función puede definir a otra y asociarla a ciertos datos (scope externo).\n",
    "- Esto se conoce en diferentes lenguajes de programación como \"closures\".\n",
    "- Esta función puede ser retornada y utilizada posteriormente."
   ]
  },
  {
   "cell_type": "code",
   "execution_count": null,
   "id": "2a1658d9",
   "metadata": {
    "cell_style": "split",
    "slideshow": {
     "slide_type": "-"
    }
   },
   "outputs": [],
   "source": [
    "import functools\n",
    "\n",
    "def print_msg_closure(msg: str):\n",
    "    def printer():\n",
    "        print(msg)\n",
    "    return printer\n",
    "\n",
    "printer_1 = print_msg_closure(\"Hello msg closure!\")\n",
    "for _ in range(2):\n",
    "    printer_1()\n",
    "printer_2 = functools.partial(print, \"Hello msg partial!\")\n",
    "for _ in range(2):\n",
    "    printer_2()"
   ]
  },
  {
   "cell_type": "markdown",
   "id": "8466b231",
   "metadata": {
    "cell_style": "split",
    "slideshow": {
     "slide_type": "slide"
    }
   },
   "source": [
    "### Decoradores\n",
    "- En general, es un patrón de diseño que extiende la funcionalidad original de un objeto, manteniendo la misma interfaz (clase abstracta, etc).\n",
    "- En Python, este concepto también se aplica para funciones. El lenguaje provee \"syntax sugar\" para facilitar decorar funciones."
   ]
  },
  {
   "cell_type": "markdown",
   "id": "228a8c70",
   "metadata": {
    "cell_style": "split",
    "slideshow": {
     "slide_type": "-"
    }
   },
   "source": [
    "![matrioska](img/matrioska.jpeg)"
   ]
  },
  {
   "cell_type": "code",
   "execution_count": null,
   "id": "7a1558b2",
   "metadata": {
    "slideshow": {
     "slide_type": "slide"
    }
   },
   "outputs": [],
   "source": [
    "from typing import Callable\n",
    "\n",
    "def basic_decorator(func: Callable):\n",
    "    def wrapper(*args, **kwargs):\n",
    "        print(f\"Before running {func.__name__}\")\n",
    "        ret = func(*args, **kwargs)\n",
    "        print(f\"After running {func.__name__}\")\n",
    "        return ret\n",
    "    return wrapper\n",
    "\n",
    "@basic_decorator\n",
    "def mult_sum(a, b, c):\n",
    "    return a * b + c\n",
    "\n",
    "\n",
    "r = mult_sum(10, 20, 10)\n",
    "print(f\"Result is {r}\")"
   ]
  },
  {
   "cell_type": "markdown",
   "id": "2d13300c",
   "metadata": {
    "cell_style": "split",
    "slideshow": {
     "slide_type": "slide"
    }
   },
   "source": [
    "### Introducción a REST\n",
    "\n",
    "- REST: **Re**presentational **S**tate **T**ransfer.\n",
    "- Arquitectura de API que utiliza el protocol HTTP.\n",
    "- Se fundamenta en manipular recursos como URLs.\n",
    "- Los métodos HTTP (GET, POST, PUT, DELETE) representan operaciones sobre los recursos.\n",
    "- Se diferencia a APIs RPC en donde los URLs pueden representar acciones ([REST vs RPC](https://www.smashingmagazine.com/2016/09/understanding-rest-and-rpc-for-http-apis/))"
   ]
  },
  {
   "cell_type": "markdown",
   "id": "a377d633",
   "metadata": {
    "cell_style": "split",
    "slideshow": {
     "slide_type": "-"
    }
   },
   "source": [
    "### Protocolo HTTP\n",
    "\n",
    "![http_messaging](img/http_messaging.png)"
   ]
  },
  {
   "cell_type": "markdown",
   "id": "16ae896f",
   "metadata": {
    "cell_style": "split",
    "slideshow": {
     "slide_type": "slide"
    }
   },
   "source": [
    "### Métodos HTTP para REST\n",
    "- `GET`: Obtener un recurso existente.\n",
    "- `POST`: Crear un nuevo recurso.\n",
    "- `PUT`: Actualizar un recurso existente.\n",
    "- `PATCH`: Actualizar parcialmente un recurso existente.\n",
    "- `DELETE`: Eliminar un recurso existente."
   ]
  },
  {
   "cell_type": "markdown",
   "id": "88a6dff5",
   "metadata": {
    "cell_style": "split",
    "slideshow": {
     "slide_type": "-"
    }
   },
   "source": [
    "CRUD: Create, Re\n",
    "![crud](img/crud.jpg)"
   ]
  },
  {
   "cell_type": "markdown",
   "id": "67554f83",
   "metadata": {
    "slideshow": {
     "slide_type": "slide"
    }
   },
   "source": [
    "### Códigos HTTP para REST\n",
    "\n",
    "[REST Python Tutorial - Status Codes](https://realpython.com/api-integration-in-python/#status-codes)"
   ]
  },
  {
   "cell_type": "markdown",
   "id": "3197891e",
   "metadata": {
    "slideshow": {
     "slide_type": "slide"
    }
   },
   "source": [
    "![rest](img/rest.png)"
   ]
  },
  {
   "cell_type": "markdown",
   "id": "6f5e24ce",
   "metadata": {
    "slideshow": {
     "slide_type": "slide"
    }
   },
   "source": [
    "### Arquitectura REST\n",
    "- Define un conjunto de restricciones para promover requerimientos no funcionales como:\n",
    "    - Rendimiento, Escalabilidad, Simpicidad y Confiabilidad\n",
    "- Restricciones\n",
    "    - `Stateless`: El servidor debe no mantener estado entre \"requests\" de un cliente.\n",
    "    - `Client-server`: El cliente y el servidor deben ser componentes independientes y desacoplados.\n",
    "    - `Cacheable`: Los datos obtenidos por el cliente deben poder ser \"cacheables\" en el cliente o servidor.\n",
    "    - `Uniform Interface`: La representación de los recursos debe estar desacoplada de su implementación interna. EL cliente no debe adivinar los recursos disponibles, estos se deben poder obtener mediante la consulta de otros recursos.\n",
    "    - `Layered system`: Los clientes deben poder accesar al servidor indirectamente por componentes como proxys o load balancers.\n",
    "    \n",
    "- API RESTful: Cumple con las restricciones de REST"
   ]
  },
  {
   "cell_type": "markdown",
   "id": "dd29810f",
   "metadata": {
    "cell_style": "split",
    "slideshow": {
     "slide_type": "slide"
    }
   },
   "source": [
    "### REST APIs en Python\n",
    "- Se pueden utilizar frameworks WSGI (Web Server Gateway Interface)\n",
    "    - Flask, Django\n",
    "- O también ASGI (Asynchronous Server Gateway Interface)\n",
    "    - FastAPI\n",
    "- En el curso utilizaremos\n",
    "  - FastAPI + Uvicorn para el REST API server.\n",
    "  - JSON como formato para mensajes (body)."
   ]
  },
  {
   "cell_type": "markdown",
   "id": "ae77b7e9",
   "metadata": {
    "cell_style": "split",
    "slideshow": {
     "slide_type": "-"
    }
   },
   "source": [
    "![python_web](img/python_web_frameworks.jpg)\n",
    "\n",
    "\n",
    "[REST Python Tutorial](https://realpython.com/api-integration-in-python/)\n",
    "\n",
    "[FastAPI Python Tutorial](https://fastapi.tiangolo.com/it/tutorial/)"
   ]
  }
 ],
 "metadata": {
  "celltoolbar": "Slideshow",
  "kernelspec": {
   "display_name": "Python 3 (ipykernel)",
   "language": "python",
   "name": "python3"
  },
  "language_info": {
   "codemirror_mode": {
    "name": "ipython",
    "version": 3
   },
   "file_extension": ".py",
   "mimetype": "text/x-python",
   "name": "python",
   "nbconvert_exporter": "python",
   "pygments_lexer": "ipython3",
   "version": "3.8.10"
  }
 },
 "nbformat": 4,
 "nbformat_minor": 5
}
