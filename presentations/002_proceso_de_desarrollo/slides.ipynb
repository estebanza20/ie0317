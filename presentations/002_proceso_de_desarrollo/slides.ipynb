{
 "cells": [
  {
   "cell_type": "markdown",
   "id": "2fac71a8",
   "metadata": {
    "cell_style": "split",
    "slideshow": {
     "slide_type": "slide"
    }
   },
   "source": [
    "### Proceso de desarrollo de software\n",
    "\n",
    "##### Qué es?\n",
    "- Conjunto de actividades definidas\n",
    "- N+1 metodologías / estrategias\n",
    "\n",
    "##### Quién lo hace? \n",
    "- Usuarios\n",
    "- Arquitectos, Diseñadores\n",
    "- Desarrolladores\n",
    "- Gestores (managers)\n"
   ]
  },
  {
   "cell_type": "markdown",
   "id": "a0999a84",
   "metadata": {
    "cell_style": "split",
    "slideshow": {
     "slide_type": "fragment"
    }
   },
   "source": [
    "\n",
    "##### Por qué se hace? \n",
    "- Previene el caos: Estabilidad, control, organización\n",
    "\n",
    "![proceso_software](img/proceso_software.jpg)"
   ]
  },
  {
   "cell_type": "markdown",
   "id": "86541f84",
   "metadata": {
    "cell_style": "split",
    "slideshow": {
     "slide_type": "slide"
    }
   },
   "source": [
    "#### Actividades estructurales\n",
    "\n",
    "##### Comunicación\n",
    "- Colaboración con el cliente y otras partes (*stakeholders*)\n",
    "- Entender la necesidad y visión del cliente\n",
    "- Delinear una serie de objetivos y requerimientos básicos"
   ]
  },
  {
   "cell_type": "markdown",
   "id": "3762d70e",
   "metadata": {
    "cell_style": "split",
    "slideshow": {
     "slide_type": "fragment"
    }
   },
   "source": [
    "![comunicacion](img/comunicacion.jpg)"
   ]
  },
  {
   "cell_type": "markdown",
   "id": "9f804519",
   "metadata": {
    "cell_style": "split",
    "slideshow": {
     "slide_type": "slide"
    }
   },
   "source": [
    "##### Planeamiento\n",
    "- Creación de un mapa (*roadmap*)\n",
    "    - Línea de tiempo\n",
    "    - Entregas (*releases*) e hitos (*milestones*)\n",
    "- Identificación de riesgos\n",
    "- Asignación de recursos\n",
    "- Definición de productos de trabajo\n",
    "- Definición y cronograma de tareas"
   ]
  },
  {
   "cell_type": "markdown",
   "id": "c9016b8b",
   "metadata": {
    "cell_style": "split",
    "slideshow": {
     "slide_type": "fragment"
    }
   },
   "source": [
    "![planning_software](img/planning_software.jpg)"
   ]
  },
  {
   "cell_type": "markdown",
   "id": "faf59396",
   "metadata": {
    "cell_style": "split",
    "slideshow": {
     "slide_type": "slide"
    }
   },
   "source": [
    "##### Modelado\n",
    "- Requerimientos\n",
    "    - Entender mejor el problema\n",
    "    - Identifica características (*features*)\n",
    "- Arquitectura y diseño\n",
    "    - Posibles soluciones al problema\n",
    "    - Identifica componentes e interacciones\n",
    "- Utiliza bosquejos y diagramas\n",
    "    - Menor o mayor nivel de detalle"
   ]
  },
  {
   "cell_type": "markdown",
   "id": "1d3176f2",
   "metadata": {
    "cell_style": "split",
    "slideshow": {
     "slide_type": "fragment"
    }
   },
   "source": [
    "![modelado_software](img/modelado_software.png)"
   ]
  },
  {
   "cell_type": "markdown",
   "id": "d4aad99f",
   "metadata": {
    "cell_style": "split",
    "slideshow": {
     "slide_type": "slide"
    }
   },
   "source": [
    "##### Construcción\n",
    "- Implementación del código\n",
    "- Implementación de pruebas\n",
    "- Validación de requerimientos"
   ]
  },
  {
   "cell_type": "markdown",
   "id": "ed7f8190",
   "metadata": {
    "cell_style": "split",
    "slideshow": {
     "slide_type": "fragment"
    }
   },
   "source": [
    "![construccion_software](img/construccion_software.jpg)"
   ]
  },
  {
   "cell_type": "markdown",
   "id": "ff1f52c1",
   "metadata": {
    "cell_style": "split",
    "slideshow": {
     "slide_type": "slide"
    }
   },
   "source": [
    "##### Despliegue\n",
    "- Producto de software se entrega al cliente\n",
    "- El cliente provee retroalimentación (*feedback*)"
   ]
  },
  {
   "cell_type": "markdown",
   "id": "58ec5d2c",
   "metadata": {
    "cell_style": "split",
    "slideshow": {
     "slide_type": "fragment"
    }
   },
   "source": [
    "![despliegue_software](img/despliegue_software.jpg)"
   ]
  },
  {
   "cell_type": "markdown",
   "id": "bd0aea3b",
   "metadata": {
    "cell_style": "split",
    "slideshow": {
     "slide_type": "slide"
    }
   },
   "source": [
    "##### Mantenimiento\n",
    "- Resolución de problemas (*issues/defects*)\n",
    "- Disminución de deuda técnica\n",
    "- Monitoreo de estadísticas"
   ]
  },
  {
   "cell_type": "markdown",
   "id": "aacbc984",
   "metadata": {
    "cell_style": "split",
    "slideshow": {
     "slide_type": "fragment"
    }
   },
   "source": [
    "![mantenimiento_software](img/mantenimiento_software.png)"
   ]
  },
  {
   "cell_type": "markdown",
   "id": "8afa8515",
   "metadata": {
    "slideshow": {
     "slide_type": "slide"
    }
   },
   "source": [
    "### Flujos de proceso\n",
    "\n",
    "![flujos_de_proceso](img/flujos_de_proceso.png)"
   ]
  },
  {
   "cell_type": "markdown",
   "id": "bc5f9d4a",
   "metadata": {
    "cell_style": "center",
    "slideshow": {
     "slide_type": "slide"
    }
   },
   "source": [
    "#### Proceso Tradicional (Waterfall)\n",
    "- Impuso orden en el mundo del software (60s-70s)\n",
    "- Enfoque sistemático y secuencial (prescriptivo)\n",
    "- Flujo lineal de actividades"
   ]
  },
  {
   "cell_type": "markdown",
   "id": "93c1725f",
   "metadata": {
    "cell_style": "center",
    "slideshow": {
     "slide_type": "slide"
    }
   },
   "source": [
    "![proceso_waterfall](img/proceso_waterfall.png)"
   ]
  },
  {
   "cell_type": "markdown",
   "id": "63af5f51",
   "metadata": {
    "slideshow": {
     "slide_type": "slide"
    }
   },
   "source": [
    "#### El cono de la incertidumbre\n",
    "\n",
    "![cono_incertidumbre](img/cono_incertidumbre.png)"
   ]
  },
  {
   "cell_type": "markdown",
   "id": "22a5cab8",
   "metadata": {
    "slideshow": {
     "slide_type": "slide"
    }
   },
   "source": [
    "#### El borde del caos en el software\n",
    "\n",
    "![borde_del_caos](img/borde_del_caos.png)"
   ]
  },
  {
   "cell_type": "markdown",
   "id": "07213781",
   "metadata": {
    "slideshow": {
     "slide_type": "slide"
    }
   },
   "source": [
    "#### Problemas del proceso Waterfall\n",
    "\n",
    "- Es difícil determinar de antemano todos los requerimientos\n",
    "- Es difícil estimar de antemano los tiempos de entrega en períodos largos\n",
    "- En la práctica los proyectos de software no se adaptan a un flujo secuencial\n",
    "- Grandes tiempos de espera para retroalimentación del cliente\n",
    "- Bloqueos en el desarrollo por tareas interdependientes"
   ]
  },
  {
   "cell_type": "markdown",
   "id": "42b96263",
   "metadata": {
    "slideshow": {
     "slide_type": "slide"
    }
   },
   "source": [
    "![project_manager](img/project_manager.png)"
   ]
  },
  {
   "cell_type": "markdown",
   "id": "4d774ae9",
   "metadata": {
    "slideshow": {
     "slide_type": "slide"
    }
   },
   "source": [
    "#### Proceso Waterfall en la actualidad\n",
    "- Por qué sigue siendo relevante?\n",
    "    - Es sencillo de entender\n",
    "    - Documentación extensiva facilita comunicación\n",
    "    - Aplicaciones con requerimientos fijos\n",
    "        - Software de bajo nivel para ASICs\n",
    "        - Videojuegos lineales"
   ]
  },
  {
   "cell_type": "markdown",
   "id": "7da7367b",
   "metadata": {
    "slideshow": {
     "slide_type": "slide"
    }
   },
   "source": [
    "#### Proceso Ágil (Agile) \n",
    "- 2001: Movimiento que responde a las desventajas del proceso Waterfall\n",
    "- Valores del [Manifiesto Agile](https://agilemanifesto.org/)\n",
    "    - ***Los individuos y sus interacciones***, sobre los procesos y las herramientas\n",
    "    - ***El software que funciona***, más que la documentación exhaustiva\n",
    "    - ***La colaboración con el cliente***, y no tanto la negociación del contrato\n",
    "    - ***Responder al cambio***, mejor que apegarse a un plan\n",
    "- Filosofía + Estrategias de desarrollo"
   ]
  },
  {
   "cell_type": "markdown",
   "id": "64138011",
   "metadata": {
    "slideshow": {
     "slide_type": "slide"
    }
   },
   "source": [
    "![autores_agile](img/autores_agile.png)"
   ]
  },
  {
   "cell_type": "markdown",
   "id": "07aa6839",
   "metadata": {
    "slideshow": {
     "slide_type": "slide"
    }
   },
   "source": [
    "#### Algunos principios Agile\n",
    "- Satisfacer al cliente con la entrega pronta y continua de software valioso\n",
    "- Los requerimientos cambiantes son bienvenidos\n",
    "- Entregar periódicamente software que funcione => Medida de avance\n",
    "- Simplicidad: \"Maximizar la cantidad de trabajo no realizado\""
   ]
  },
  {
   "cell_type": "markdown",
   "id": "430c1999",
   "metadata": {
    "slideshow": {
     "slide_type": "slide"
    }
   },
   "source": [
    "#### Agile y el \"triángulo de hierro\" en administración de proyectos\n",
    "![triangulo_hierro](img/triangulo-de-hierro.png)"
   ]
  },
  {
   "cell_type": "markdown",
   "id": "5f539d96",
   "metadata": {
    "slideshow": {
     "slide_type": "slide"
    }
   },
   "source": [
    "#### Críticas de Agile\n",
    "- Ingeniería de software *light*?\n",
    "- Si se abusa se puede subestimar la arquitectura y el diseño\n",
    "- Los negocios siguen necesitando *milestones* definidos"
   ]
  },
  {
   "cell_type": "markdown",
   "id": "5777a26e",
   "metadata": {
    "cell_style": "split",
    "slideshow": {
     "slide_type": "slide"
    }
   },
   "source": [
    "#### Estrategias Agile\n",
    "- Scrum\n",
    "- Kanban\n",
    "- Extreme Programming (XP)\n",
    "- Scaled Agile Framework (SAFe)"
   ]
  },
  {
   "cell_type": "markdown",
   "id": "12c36604",
   "metadata": {
    "cell_style": "split",
    "slideshow": {
     "slide_type": "fragment"
    }
   },
   "source": [
    "![metodologias_agile](img/metodologias_agile.png)"
   ]
  },
  {
   "cell_type": "markdown",
   "id": "4ee43191",
   "metadata": {
    "cell_style": "center",
    "slideshow": {
     "slide_type": "slide"
    }
   },
   "source": [
    "#### Scrum\n",
    "- [Framework](https://www.scrum.org/resources/what-is-scrum) de desarrollo\n",
    "- Inspirado en una jugada de Rugby\n",
    "- Se dice que no es una metodología\n",
    "- Se basa en evidencia empírica\n",
    "![scrum_rugby](img/scrum_rugby.gif)"
   ]
  },
  {
   "cell_type": "markdown",
   "id": "141142e9",
   "metadata": {
    "cell_style": "center",
    "slideshow": {
     "slide_type": "slide"
    }
   },
   "source": [
    "En resumen, Scrum requiere que un **Scrum Master** promueva un ambiente en donde:\n",
    "\n",
    "1. Un **Propietario del Producto** (Product Owner) organice el trabajo de un problema complejo en un *Backlog del Producto* (Product Backlog).\n",
    "2. El **Equipo de Scrum** (Scrum Team) convierta una parte de ese trabajo en un incremento de valor durante un bloque fijo de tiempo llamado **Sprint**.\n",
    "3. El **Equipo de Scrum** (Scrum Team) y las partes interesadas (stakeholders) inspeccionen los resultados y los ajusten para el siguiente **Sprint**.\n",
    "4. Repetir"
   ]
  },
  {
   "cell_type": "markdown",
   "id": "d5997936",
   "metadata": {
    "slideshow": {
     "slide_type": "slide"
    }
   },
   "source": [
    "![scrum_framework](img/scrum_framework.png)"
   ]
  },
  {
   "cell_type": "markdown",
   "id": "6e6a7a5b",
   "metadata": {
    "cell_style": "center",
    "slideshow": {
     "slide_type": "slide"
    }
   },
   "source": [
    "#### Historias de usuario (user stories)\n",
    "- El *Product Owner* las agrega al *Product Backlog*\n",
    "- Representan objetivos desde la perspectiva de usuario\n",
    "    - Cómo se brinda valor al usuario?\n",
    "    - Informal >> Técnica\n",
    "- Plantilla útil: Como \\[usuario\\], yo \\[quiero ...\\], \\[tal que ...\\]\n",
    "    - Ejemplo:\n",
    "        - Como \"*estudiante*\", \n",
    "        - yo \"*quiero recibir una presentación sobre Scrum*\",\n",
    "        - tal que \"*pueda aprender a organizar mejor mis proyectos*\""
   ]
  },
  {
   "cell_type": "markdown",
   "id": "000f3b75",
   "metadata": {
    "cell_style": "split",
    "slideshow": {
     "slide_type": "slide"
    }
   },
   "source": [
    "##### Criterio de aceptación (Definition of Done, DoD)\n",
    "- Uno o más criterios\n",
    "    - Pruebas unitarias pasan\n",
    "    - Demo de funcionalidad\n",
    "    - Revisión de código\n",
    "    - Aceptado por el *Product Owner*"
   ]
  },
  {
   "cell_type": "markdown",
   "id": "10b3efbe",
   "metadata": {
    "cell_style": "split",
    "slideshow": {
     "slide_type": "fragment"
    }
   },
   "source": [
    "![definition_of_done](img/definition_of_done.jpg)"
   ]
  },
  {
   "cell_type": "markdown",
   "id": "cca48395",
   "metadata": {
    "cell_style": "split",
    "slideshow": {
     "slide_type": "slide"
    }
   },
   "source": [
    "#### Puntaje en historias de usuario\n",
    "- Se puede empezar con 1 punto ~ 1 día ideal ingeniero\n",
    "- Técnicas especiales (fibonacci, etc)\n",
    "- Definen costo relativo a otras historias\n",
    "    - Tarea de referencia\n",
    "- Ayudan a estimar métricas de *velocidad*\n",
    "    - Mejora los estimados de planeamiento para Sprints posteriores"
   ]
  },
  {
   "cell_type": "markdown",
   "id": "62046049",
   "metadata": {
    "cell_style": "split",
    "slideshow": {
     "slide_type": "fragment"
    }
   },
   "source": [
    "![puntos_fibonacci](img/puntos_fibonacci.png)"
   ]
  },
  {
   "cell_type": "markdown",
   "id": "de320730",
   "metadata": {
    "cell_style": "center",
    "slideshow": {
     "slide_type": "slide"
    }
   },
   "source": [
    "#### Jerarquía de historias de usuario\n",
    "![niveles_historias_scrum](img/niveles_historias_scrum.png)"
   ]
  },
  {
   "cell_type": "markdown",
   "id": "34d6d3c4",
   "metadata": {
    "cell_style": "center",
    "slideshow": {
     "slide_type": "slide"
    }
   },
   "source": [
    "#### Eventos de Scrum: Reunión de planeamiento (planning)\n",
    "- Cuáles son los objetivos del Sprint?\n",
    "- Qué trabajo podemos cubrir en este Sprint?\n",
    "    - *Sprint Backlog*\n",
    "- Cómo vamos a hacerlo?\n",
    "    - Historias => tareas específicas"
   ]
  },
  {
   "cell_type": "markdown",
   "id": "e621114b",
   "metadata": {
    "slideshow": {
     "slide_type": "slide"
    }
   },
   "source": [
    "![velocidad_sprint](img/velocidad_sprint.png)"
   ]
  },
  {
   "cell_type": "markdown",
   "id": "10cf0e4d",
   "metadata": {
    "cell_style": "split",
    "slideshow": {
     "slide_type": "slide"
    }
   },
   "source": [
    "#### Eventos de Scrum: Reunion diaria (Daily Scrum)\n",
    "- Reunión muy corta (15 min)\n",
    "- No es un simple reporte de progreso de tareas\n",
    "- Revisión de progreso sobre los objetivos del Sprint\n",
    "    - Qué se hizo ayer?\n",
    "    - Se está bloqueado por algo?\n",
    "    - Qué se va a hacer hoy?\n",
    "- Transparencia => Inspección y adaptación\n",
    "        "
   ]
  },
  {
   "cell_type": "markdown",
   "id": "97616c9a",
   "metadata": {
    "cell_style": "split",
    "slideshow": {
     "slide_type": "fragment"
    }
   },
   "source": [
    "![daily_scrum](img/daily_scrum.png)"
   ]
  },
  {
   "cell_type": "markdown",
   "id": "94891752",
   "metadata": {
    "cell_style": "split",
    "slideshow": {
     "slide_type": "slide"
    }
   },
   "source": [
    "#### Eventos de Scrum: Reunión de revisión\n",
    "- Ocurre al final del Sprint\n",
    "- Se enfoca en los entregables del Sprint\n",
    "- Ajuste del *Product Backlog*\n",
    "    - También se puede hacer en una reunión de Refinamiento del Backlog\n",
    "- Preparación para el *planning* del siguiente Sprint\n",
    "- Puede involucrar a los *stakeholders*"
   ]
  },
  {
   "cell_type": "markdown",
   "id": "635e81ca",
   "metadata": {
    "cell_style": "split",
    "slideshow": {
     "slide_type": "fragment"
    }
   },
   "source": [
    "![sprint_review](img/sprint_review.png)"
   ]
  },
  {
   "cell_type": "markdown",
   "id": "8dc7d990",
   "metadata": {
    "cell_style": "center",
    "slideshow": {
     "slide_type": "slide"
    }
   },
   "source": [
    "##### Eventos de Scrum: Reunión de retrospectiva\n",
    "- Ocurre después de la reunión de revisión\n",
    "- Se enfoca en mejorar la calidad y efectividad\n",
    "- Preguntas\n",
    "    - Qué fue bien en el Sprint?\n",
    "    - Qué puede ser mejorado?\n",
    "    - Qué nos comprometemos a mejorar en el siguiente Sprint?"
   ]
  },
  {
   "cell_type": "markdown",
   "id": "3ccdef9a",
   "metadata": {
    "cell_style": "split",
    "slideshow": {
     "slide_type": "slide"
    }
   },
   "source": [
    "#### Kanban\n",
    "- Origen en una práctica de manufactura eficiente basada en señales\n",
    "- Flujo continuo de tareas en un tablero\n",
    "- Métricas\n",
    "    - Tiempo de ciclo (*cycle time*)\n",
    "    - Rendimiento (*throughput*)\n",
    "![kanban_kanji](img/kanban_kanji.png)"
   ]
  },
  {
   "cell_type": "markdown",
   "id": "182e4a9a",
   "metadata": {
    "cell_style": "split",
    "slideshow": {
     "slide_type": "fragment"
    }
   },
   "source": [
    "<p>&nbsp;</p>\n",
    "\n",
    "![kanban_manufactura](img/kanban_manufactura.png)"
   ]
  },
  {
   "cell_type": "markdown",
   "id": "b0757fb2",
   "metadata": {
    "cell_style": "center",
    "slideshow": {
     "slide_type": "slide"
    }
   },
   "source": [
    "![kanban_board](img/kanban_board.png)"
   ]
  },
  {
   "cell_type": "markdown",
   "id": "10af360b",
   "metadata": {
    "slideshow": {
     "slide_type": "slide"
    }
   },
   "source": [
    "#### Diseño en Agile\n",
    "- Múltiples estilos\n",
    "    - Historias de diseño y prototipado\n",
    "        - Pruebas de concepto (PoCs, Spikes)\n",
    "        - Cuidado con PoC -> Producción\n",
    "    - Definición de historia lista\n",
    "        - Historias de desarrollo no se ejecutan hasta que el diseño este listo\n",
    "        - Diseño en general no se representa con historias"
   ]
  },
  {
   "cell_type": "markdown",
   "id": "8f7c30e6",
   "metadata": {
    "slideshow": {
     "slide_type": "slide"
    }
   },
   "source": [
    "#### Planeamiento a largo plazo en Agile\n",
    "Quiz 2:\n",
    "- Agile vs largo plazo\n",
    "- Leer [artículo](https://www.atlassian.com/agile/agile-at-scale/long-term-agile-planning)"
   ]
  },
  {
   "cell_type": "markdown",
   "id": "0c16aa50",
   "metadata": {
    "cell_style": "split",
    "slideshow": {
     "slide_type": "slide"
    }
   },
   "source": [
    "#### Herramientas para proyectos Agile\n",
    "- [JIRA](https://www.atlassian.com/software/jira)\n",
    "     - Ampliamente usada en la industria\n",
    "     - Alta curva de aprendizaje\n",
    "     \n",
    "![jira_software](img/jira_software.png)"
   ]
  },
  {
   "cell_type": "markdown",
   "id": "e87e37e6",
   "metadata": {
    "cell_style": "split",
    "slideshow": {
     "slide_type": "fragment"
    }
   },
   "source": [
    "- [Taiga](https://www.taiga.io)\n",
    "    - Facilidad de uso\n",
    "    - La vamos a utilizar para el proyecto\n",
    "    \n",
    "![taiga](img/taiga.png)"
   ]
  },
  {
   "cell_type": "markdown",
   "id": "d9b0457e",
   "metadata": {
    "slideshow": {
     "slide_type": "slide"
    }
   },
   "source": [
    "#### Recursos extra Agile\n",
    "- [Atlassian Agile Coach](https://www.atlassian.com/agile)"
   ]
  },
  {
   "cell_type": "markdown",
   "id": "f8791e19",
   "metadata": {
    "slideshow": {
     "slide_type": "slide"
    }
   },
   "source": [
    "### Laboratorio 0\n",
    "- Introducción al ambiente de desarrollo base del curso\n",
    "- Instalación y configuración de Docker, Vagrant\n",
    "- Construcción de la documentación con Sphinx"
   ]
  }
 ],
 "metadata": {
  "celltoolbar": "Slideshow",
  "kernelspec": {
   "display_name": "Python 3 (ipykernel)",
   "language": "python",
   "name": "python3"
  },
  "language_info": {
   "codemirror_mode": {
    "name": "ipython",
    "version": 3
   },
   "file_extension": ".py",
   "mimetype": "text/x-python",
   "name": "python",
   "nbconvert_exporter": "python",
   "pygments_lexer": "ipython3",
   "version": "3.8.10"
  }
 },
 "nbformat": 4,
 "nbformat_minor": 5
}
