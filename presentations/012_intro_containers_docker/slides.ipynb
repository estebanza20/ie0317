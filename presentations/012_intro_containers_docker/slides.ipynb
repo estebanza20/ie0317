{
 "cells": [
  {
   "cell_type": "markdown",
   "id": "60026d48",
   "metadata": {
    "slideshow": {
     "slide_type": "slide"
    }
   },
   "source": [
    "## Introducción a contenedores y Docker\n",
    "\n",
    "![containers](img/containers.jpg)"
   ]
  },
  {
   "cell_type": "markdown",
   "id": "0f553bcb",
   "metadata": {
    "slideshow": {
     "slide_type": "slide"
    }
   },
   "source": [
    "### Problemas típicos de desarrollo y despliegue de software\n",
    "- Dificultad del mantenimiento del ambiente de desarrollo por dependencias externas y sus versiones.\n",
    "    - *Ej: Compila en mi compu...*\n",
    "- Incompatibilidad por la diversidad de frameworks y tecnologías para distintos servicios de un mismo sistema.\n",
    "    - *Ej: Programas dependen de versiones distintas de glibc o la máquina virtual de Java (JVM).*\n",
    "    - *Ej: Programas dependen de distintas distribuciones de Linux*\n",
    "- Dificultad de aislar y controlar los programas a nivel de archivos, redes y otros recursos del sistema.\n",
    "    - *Ej: Dos webservers no pueden correr a la vez porque utilizan el mismo número de puerto TCP*"
   ]
  },
  {
   "cell_type": "markdown",
   "id": "62541ebd",
   "metadata": {
    "slideshow": {
     "slide_type": "slide"
    }
   },
   "source": [
    "### Virtualización al rescate!\n",
    "![virtualization](img/virtualization.jpg)"
   ]
  },
  {
   "cell_type": "markdown",
   "id": "9354db5a",
   "metadata": {
    "cell_style": "split",
    "slideshow": {
     "slide_type": "slide"
    }
   },
   "source": [
    "### Máquinas virtuales (VMs)\n",
    "\n",
    "- Virtualización a nivel de hardware y kernel de un sistema operativo (guest OS)\n",
    "- Permiten soportar sistemas completos de software (OS+programas) sobre el mismo hardware\n",
    "    - Ej: Windows + Linux\n",
    "- *Hypervisor*: programa que administra las máquinas virtuales.\n"
   ]
  },
  {
   "cell_type": "markdown",
   "id": "21b54be0",
   "metadata": {
    "cell_style": "split",
    "slideshow": {
     "slide_type": "-"
    }
   },
   "source": [
    "![vm_simple](img/vm_simple.png)"
   ]
  },
  {
   "cell_type": "markdown",
   "id": "30d0d480",
   "metadata": {
    "cell_style": "split",
    "slideshow": {
     "slide_type": "slide"
    }
   },
   "source": [
    "#### Type 1 Hypervisors\n",
    "- Bare-metal (corren directamente en HW como un OS)\n",
    "![type-1-hypervisor-examples](img/type-1-hypervisor-examples.png)"
   ]
  },
  {
   "cell_type": "markdown",
   "id": "91afa6d4",
   "metadata": {
    "cell_style": "split",
    "slideshow": {
     "slide_type": "fragment"
    }
   },
   "source": [
    "#### Type 2 Hypervisors\n",
    "- Hosted (corren como programas en un host OS)\n",
    "![type-2-hypervisor-examples](img/type-2-hypervisor-examples.png)"
   ]
  },
  {
   "cell_type": "markdown",
   "id": "13bad83d",
   "metadata": {
    "cell_style": "split",
    "slideshow": {
     "slide_type": "slide"
    }
   },
   "source": [
    "### Contenedores\n",
    "\n",
    "- Virtualización a nivel de software del host (OS-level virtualization).\n",
    "- Permiten empaquetar y ejecutar distintos stacks de software aislados sobre el mismo kernel del host OS.\n",
    "    - Ej: Base de datos Redis + sus dependencias\n",
    "- *Container Runtime*: programa que administra los contenedores. \n"
   ]
  },
  {
   "cell_type": "markdown",
   "id": "354cf1a4",
   "metadata": {
    "cell_style": "split",
    "slideshow": {
     "slide_type": "-"
    }
   },
   "source": [
    "\n",
    "![container_simple](img/container_simple.png)"
   ]
  },
  {
   "cell_type": "markdown",
   "id": "e1c4981d",
   "metadata": {
    "cell_style": "split",
    "slideshow": {
     "slide_type": "slide"
    }
   },
   "source": [
    "### Casos de uso para contenedores\n",
    "\n",
    "- Ambientes de desarrollo reproducibles\n",
    "- Ambientes de infrastructura de DevOps\n",
    "    - Ej: *Continuous Integration (CI)*: Pruebas automatizadas para merges\n",
    "    - Ej: *Continuous Delivery (CD)*: Rápido despliegue y rollback de versiones\n",
    "- Despliegue de aplicaciones basadas en microservicios\n",
    "    - 1 microservicio <=> 1 contenedor\n",
    "    - Ventajas\n",
    "        - Aislamiento y control de recursos\n",
    "        - Escalabilidad y rendimiento\n",
    "        - Recuperación de fallos"
   ]
  },
  {
   "cell_type": "markdown",
   "id": "25599295",
   "metadata": {
    "cell_style": "split",
    "slideshow": {
     "slide_type": "fragment"
    }
   },
   "source": [
    "### Ejemplo microservicios: Voting App\n",
    "\n",
    "![voting_app_containers](img/voting_app_containers.png)"
   ]
  },
  {
   "cell_type": "markdown",
   "id": "a7012e9f",
   "metadata": {
    "cell_style": "center",
    "slideshow": {
     "slide_type": "slide"
    }
   },
   "source": [
    "### Máquinas virtuales vs Contenedores\n",
    "\n",
    "![vms_vs_containers](img/vms_vs_containers.png)\n",
    "\n",
    "\n",
    "- [Attlassian: Containers vs. virtual machines](https://www.atlassian.com/microservices/cloud-computing/containers-vs-vms)\n",
    "- [Backblaze: What’s the Diff: VMs vs. Containers](https://www.backblaze.com/blog/vm-vs-containers/)"
   ]
  },
  {
   "cell_type": "markdown",
   "id": "abeb8e57",
   "metadata": {
    "slideshow": {
     "slide_type": "slide"
    }
   },
   "source": [
    "#### Evolución despliegue de aplicaciones\n",
    "\n",
    "![container_evolution](img/container_evolution.png)"
   ]
  },
  {
   "cell_type": "markdown",
   "id": "e8400651",
   "metadata": {
    "cell_style": "split",
    "slideshow": {
     "slide_type": "slide"
    }
   },
   "source": [
    "### Máquinas virtuales + Contenedores\n",
    "- Se combinan para ciertos casos de uso\n",
    "- Containers sobre máquinas virtuales\n",
    "    - Ej: Contenedores de microservicios web corriendo sobre una VM de Amazon AWS EC2\n",
    "- Máquinas virtuales sobre contenedores    \n",
    "    - Ej: VM de QEMU simulando un microcontrolador y corriendo sobre un contenedor de desarrollo."
   ]
  },
  {
   "cell_type": "markdown",
   "id": "459502bd",
   "metadata": {
    "cell_style": "split",
    "slideshow": {
     "slide_type": "-"
    }
   },
   "source": [
    "![containerization](img/containerization.png)"
   ]
  },
  {
   "cell_type": "markdown",
   "id": "35aa3dc7",
   "metadata": {
    "cell_style": "center",
    "slideshow": {
     "slide_type": "slide"
    }
   },
   "source": [
    "### Containerización: Namespaces y Cgroups\n",
    "- Los namespaces permiten aislar los recursos del host OS \n",
    "    - Los container runtimes crean los contenedores en distintos namespaces para aislarlos del host y entre sí.\n",
    "    - El kernel de Linux permite generar namespaces para procesos, users, redes, mounts, etc.\n",
    "- Cgroups (control groups) es un feature de Linux para limitar el uso de recursos para un grupo de procesos.\n",
    "    - Se puede controlar el uso de CPU, memoria, I/O, etc\n",
    "- [Containerization Mechanisms: Namespaces](https://blog.selectel.com/containerization-mechanisms-namespaces/)\n",
    "- [Demystifying Containers - Part I: Kernel Space\n",
    "](https://medium.com/@saschagrunert/demystifying-containers-part-i-kernel-space-2c53d6979504)"
   ]
  },
  {
   "cell_type": "markdown",
   "id": "86458187",
   "metadata": {
    "cell_style": "split",
    "slideshow": {
     "slide_type": "slide"
    }
   },
   "source": [
    "### Process namespaces\n",
    "![pid_namespace](img/pid_namespace.png)"
   ]
  },
  {
   "cell_type": "markdown",
   "id": "6cc10e9a",
   "metadata": {
    "cell_style": "split",
    "slideshow": {
     "slide_type": "fragment"
    }
   },
   "source": [
    "### Network namespaces\n",
    "![network_namespace](img/network_namespace.png)"
   ]
  },
  {
   "cell_type": "markdown",
   "id": "8859e276",
   "metadata": {
    "cell_style": "split",
    "slideshow": {
     "slide_type": "slide"
    }
   },
   "source": [
    "### Docker\n",
    "\n",
    "- Ecosistema open-source para el desarrollo, despliegue y administración de aplicaciones con contenedores.\n",
    "    - Docker CLI (docker) + Docker daemon (dockerd).\n",
    "    - Herramientas: Docker Compose, Docker Swarm, Docker Volume.\n",
    "    - Repositorios de imágenes: Docker Registry.\n",
    "- Popularizó los contenedores al brindar una plataforma al facilitar:\n",
    "    - La creación de imágenes para correr aplicaciones y el proceso de compartirlas.\n",
    "    - La configuración de otros recursos como redes y volúmenes."
   ]
  },
  {
   "cell_type": "markdown",
   "id": "ebf02ffb",
   "metadata": {
    "cell_style": "split",
    "slideshow": {
     "slide_type": "-"
    }
   },
   "source": [
    "- [Docker Overview](https://docs.docker.com/get-started/overview/)\n",
    "\n",
    "![docker_logo](img/docker_logo.png)"
   ]
  },
  {
   "cell_type": "markdown",
   "id": "ebf7c749",
   "metadata": {
    "slideshow": {
     "slide_type": "slide"
    }
   },
   "source": [
    "### Entidades de Docker\n",
    "- Imágenes\n",
    "    - Plantillas con las instrucciones para crear un contenedor.\n",
    "        - Se empaquetan las dependencias y el comando para ejecutar una aplicación\n",
    "        - Se describen mediante archivos llamados `Dockerfiles`\n",
    "    - Las imágenes se suelen basar en imágenes base + ciertos cambios\n",
    "        - Ej: Basar una imagen en Ubuntu 20.04 y agregar un web server de Nginx\n",
    "    - Se descargan de un Docker registry como [Docker Hub](https://hub.docker.com/)\n",
    "- Contenedores\n",
    "    - Instancia ejecutable de una imagen. \n",
    "    - Se puede usar el Docker API o CLI para iniciar, detener, mover o eliminar contenedores."
   ]
  },
  {
   "cell_type": "markdown",
   "id": "b2a8a3bb",
   "metadata": {
    "slideshow": {
     "slide_type": "slide"
    }
   },
   "source": [
    "### Arquitectura de Docker\n",
    "\n",
    "![docker_architecture](img/docker_architecture.png)"
   ]
  },
  {
   "cell_type": "markdown",
   "id": "7f92bbb0",
   "metadata": {
    "cell_style": "split",
    "slideshow": {
     "slide_type": "slide"
    }
   },
   "source": [
    "### Dockerfile\n",
    "- Es la receta para crear una imagen.\n",
    "- Directivas (entre otras)\n",
    "    - `FROM`: Imagen base\n",
    "    - `ENV`,`ARG`: Definir variables de ambiente\n",
    "    - `COPY`, `ADD`: Copiar archivos\n",
    "    - `RUN`: Comandos de construcción\n",
    "    - `EXPOSE`: Exponer puertos de red del container en el host\n",
    "    - `CMD`,`ENTRYPOINT`: Comando de ejecución de la aplicación\n",
    "- [Dockerfile best practices](https://docs.docker.com/develop/develop-images/dockerfile_best-practices/)\n",
    "- [Dockerfile reference](https://docs.docker.com/engine/reference/builder/)"
   ]
  },
  {
   "cell_type": "markdown",
   "id": "5cec14d6",
   "metadata": {
    "cell_style": "split",
    "slideshow": {
     "slide_type": "fragment"
    }
   },
   "source": [
    "&nbsp;\n",
    "\n",
    "```dockerfile\n",
    "FROM node:12-alpine\n",
    "RUN apk add --no-cache python2 g++ make\n",
    "WORKDIR /app\n",
    "COPY . .\n",
    "RUN yarn install --production\n",
    "CMD [\"node\", \"src/index.js\"]\n",
    "EXPOSE 3000\n",
    "```"
   ]
  },
  {
   "cell_type": "markdown",
   "id": "ee5c5052",
   "metadata": {
    "cell_style": "center",
    "slideshow": {
     "slide_type": "slide"
    }
   },
   "source": [
    "### Comandos útiles (imágenes)\n",
    "- `$ docker images`\n",
    "    - Enlistar las imágenes disponibles en el sistema\n",
    "- `$ docker tag SOURCE_IMAGE[:TAG] TARGET_IMAGE[:TAG]`\n",
    "    - Asignar una etiqueta a una imagen\n",
    "- `$ docker rmi [OPTIONS] IMAGE`\n",
    "    - Eliminar una imagen del sistema\n",
    "- `$ docker build [ARGS]`\n",
    "    - Construye una imagen a partir de un `Dockerfile`\n",
    "- `$ docker run [OPTIONS] IMAGE [ARGS ...]`\n",
    "    - Ejecutar una aplicación (crear contenedor) a partir de una\n",
    "imagen"
   ]
  },
  {
   "cell_type": "markdown",
   "id": "6c94ed18",
   "metadata": {
    "cell_style": "center",
    "slideshow": {
     "slide_type": "slide"
    }
   },
   "source": [
    "- Opciones de ejecución de un contenedor (`$ docker run`)\n",
    "    - `--name`: Nombre del contenedor\n",
    "    - `--interactive`, `-i`: Interactivo, mantiene STDIN\n",
    "    - `--tty`, `-t`: Reserva un pseudo-TTY para enviar el STDOUT\n",
    "    - `--volume`, `-v`: montar un volumen\n",
    "    - `--rm`: Elimina el contenedor luego de terminada la\n",
    "ejecución\n",
    "    - [Entre otros](https://docs.docker.com/engine/reference/commandline/run/)"
   ]
  },
  {
   "cell_type": "markdown",
   "id": "68cd5524",
   "metadata": {
    "cell_style": "center",
    "slideshow": {
     "slide_type": "slide"
    }
   },
   "source": [
    "### Comandos útiles (contenedores)\n",
    "- `$ docker ps`\n",
    "    - Enlistar los contenedores en ejecución\n",
    "- `$ docker ps -a`\n",
    "    - Enlistar todos los contenedores (en ejecución y detenidos)\n",
    "- `$ docker stop`\n",
    "    - Detiene un contenedor enviando una señal de SIGTERM al proceso principal\n",
    "- `$ docker start`\n",
    "    - Reanuda un contenedor detenido\n",
    "- `$ docker kill`\n",
    "    - Mata el proceso asociado al contenedor enviando una señal de SIGKILL"
   ]
  },
  {
   "cell_type": "markdown",
   "id": "9f2cc5b0",
   "metadata": {
    "cell_style": "center",
    "slideshow": {
     "slide_type": "slide"
    }
   },
   "source": [
    "&nbsp;\n",
    "\n",
    "- `$ docker rm`\n",
    "    - Elimina un contenedor\n",
    "- `$ docker exec [command]`\n",
    "    - Ejecuta un comando en un contenedor en ejecución\n",
    "    - Ej: `$docker exec <container> -it bash`\n",
    "- `$ docker logs`\n",
    "    - Muestra los logs de un contenedor\n",
    "- `$ docker commit`\n",
    "    - Crea una imagen a partir del contenedor (al revés)"
   ]
  },
  {
   "cell_type": "markdown",
   "id": "10cd3121",
   "metadata": {
    "slideshow": {
     "slide_type": "slide"
    }
   },
   "source": [
    "### Práctica Docker\n",
    "- Seguir tutorial [Docker Get Started](https://docs.docker.com/get-started/)\n",
    "    - De la Parte 1 (Getting started) a la 4 (Share the application), inclusive\n",
    "    - Ignorar secciones relacionadas al Docker dashboard\n",
    "- Seguir tutorial [Docker Tutorial for Beginners (YouTube)](https://youtu.be/fqMOX6JJhGo?t=0)\n",
    "    - Principalmente las siguientes secciones:\n",
    "        - Commands [[0:21:00](https://www.youtube.com/watch?v=fqMOX6JJhGo&t=1260s)] \n",
    "        - Run [[0:33:12](https://www.youtube.com/watch?v=fqMOX6JJhGo&t=1992s)]\n",
    "        - Environment Variables [[0:42:19](https://www.youtube.com/watch?v=fqMOX6JJhGo&t=2539s)]\n",
    "        - Images [[0:44:07](https://www.youtube.com/watch?v=fqMOX6JJhGo&t=2647s)]\n",
    "        - CMD vs ENTRYPOINT [[0:51:38](https://www.youtube.com/watch?v=fqMOX6JJhGo&t=3098s)]"
   ]
  }
 ],
 "metadata": {
  "celltoolbar": "Slideshow",
  "kernelspec": {
   "display_name": "Python 3 (ipykernel)",
   "language": "python",
   "name": "python3"
  },
  "language_info": {
   "codemirror_mode": {
    "name": "ipython",
    "version": 3
   },
   "file_extension": ".py",
   "mimetype": "text/x-python",
   "name": "python",
   "nbconvert_exporter": "python",
   "pygments_lexer": "ipython3",
   "version": "3.8.10"
  }
 },
 "nbformat": 4,
 "nbformat_minor": 5
}
