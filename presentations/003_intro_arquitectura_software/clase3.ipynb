{
 "cells": [
  {
   "cell_type": "markdown",
   "id": "0016dd51",
   "metadata": {
    "cell_style": "split",
    "slideshow": {
     "slide_type": "slide"
    }
   },
   "source": [
    "### Introducción a la Arquitectura de Software\n",
    "\n",
    "- Diseño y propiedades a alto nivel de un sistema de software\n",
    "- Estructuras que permiten lograr atributos de calidad\n",
    "- Crea modelos y vistas que permiten razonar sobre el sistema\n",
    "- Crítico para aplicaciones complejas como IoT\n",
    "    - Sistemas distribuidos\n",
    "    - Procesamiento en tiempo real\n",
    "    - Dispositivos heterogéneos"
   ]
  },
  {
   "cell_type": "markdown",
   "id": "90a544c7",
   "metadata": {
    "cell_style": "split",
    "slideshow": {
     "slide_type": "-"
    }
   },
   "source": [
    "<p>&nbsp;</p>\n",
    "\n",
    "![iot](img/IoT.png)"
   ]
  },
  {
   "cell_type": "markdown",
   "id": "433afcab",
   "metadata": {
    "slideshow": {
     "slide_type": "slide"
    }
   },
   "source": [
    "![uml_diagram_types](img/uml_diagram_types.png)"
   ]
  },
  {
   "cell_type": "markdown",
   "id": "e8addf63",
   "metadata": {
    "cell_style": "split",
    "slideshow": {
     "slide_type": "slide"
    }
   },
   "source": [
    "### Atributos de calidad de los sistemas de software\n",
    "- Atributos de calidad => Percepción del usuario sobre el valor de un producto\n",
    "- Más importantes que las características (*features*) para el diseño\n",
    "- Propiedades no funcionales del sistema\n",
    "- [ISO 25010](https://iso25000.com/index.php/normas-iso-25000/iso-25010)"
   ]
  },
  {
   "cell_type": "markdown",
   "id": "050da33c",
   "metadata": {
    "cell_style": "split",
    "slideshow": {
     "slide_type": "fragment"
    }
   },
   "source": [
    "![iso25010](img/iso25010.png)"
   ]
  },
  {
   "cell_type": "markdown",
   "id": "3515a3bf",
   "metadata": {
    "slideshow": {
     "slide_type": "slide"
    }
   },
   "source": [
    "### Atributos de calidad: Ejemplo sobre desempeño\n",
    "- \"*El sistema debe ser capaz de procesar 10k eventos por segundo*\"\n",
    "- Análisis de desempeño basado en modelos de arquitectura (0% código)\n",
    "    - Componentes e interacciones (1 evento)\n",
    "    - Concurrencia / Paralelismo => Condiciones de carrera\n",
    "    - Protocolos de comunicación => Latencia, Throughput\n",
    "    - Recursos compartidos => Contención de recursos"
   ]
  },
  {
   "cell_type": "markdown",
   "id": "f6d74531",
   "metadata": {
    "slideshow": {
     "slide_type": "slide"
    }
   },
   "source": [
    "![kafka_events](img/kafka_events.png)"
   ]
  },
  {
   "cell_type": "markdown",
   "id": "7fb0d370",
   "metadata": {
    "cell_style": "split",
    "slideshow": {
     "slide_type": "slide"
    }
   },
   "source": [
    "### Arquitectura de Software: \"*Necesario pero no suficiente*\"\n",
    "- Una mala implementación puede opacar una buena arquitectura\n",
    "    - Atributos de calidad se deben mantener siempre\n",
    "- Una mala arquitectura no se puede compensar en la implementación\n",
    "    - Cuellos de botella estructurales"
   ]
  },
  {
   "cell_type": "markdown",
   "id": "93a87076",
   "metadata": {
    "cell_style": "split",
    "slideshow": {
     "slide_type": "fragment"
    }
   },
   "source": [
    "![bad_software_architecture](img/bad_software_architecture.jpg)"
   ]
  },
  {
   "cell_type": "markdown",
   "id": "81a21c74",
   "metadata": {
    "cell_style": "center",
    "slideshow": {
     "slide_type": "slide"
    }
   },
   "source": [
    "### Arquitectura de Software: Por qué es importante?\n",
    "#### Permite razonar sobre cambios\n",
    "- El costo del mantenimiento de software puede ser 60% or más\n",
    "- Constante innovación y nuevas tecnologías \n",
    "    - Necesidad de modificabilidad (*future-proofing*)"
   ]
  },
  {
   "cell_type": "markdown",
   "id": "7b725e42",
   "metadata": {
    "cell_style": "split",
    "slideshow": {
     "slide_type": "slide"
    }
   },
   "source": [
    "#### Decisiones de diseño tempranas\n",
    "- Usar software en la nube o local (*on-premise*)?\n",
    "- Sistema distribuido o centralizado?\n",
    "- Cuál protocolo de comunicación?\n",
    "- Cuál sistema operativo y middleware?"
   ]
  },
  {
   "cell_type": "markdown",
   "id": "d307013a",
   "metadata": {
    "cell_style": "split",
    "slideshow": {
     "slide_type": "fragment"
    }
   },
   "source": [
    "![monolithic_vs_microservices](img/monolithic_vs_microservices.jpg)"
   ]
  },
  {
   "cell_type": "markdown",
   "id": "3fdd3330",
   "metadata": {
    "slideshow": {
     "slide_type": "slide"
    }
   },
   "source": [
    "#### Predicción de cualidades del sistema\n",
    "- Ej: Modelos de comportamiento permiten visualizar el rendimiento\n",
    "    - Número y flujo de mensajes entre componentes al atender 1 evento\n",
    "    \n",
    "#### Restricciones para la implementación\n",
    "- Ej: Presupuesto de rendimiento para diferentes componentes"
   ]
  },
  {
   "cell_type": "markdown",
   "id": "8ca992f5",
   "metadata": {
    "cell_style": "split",
    "slideshow": {
     "slide_type": "slide"
    }
   },
   "source": [
    "#### Permite la reutilización de componentes (reusabilidad)\n",
    "- No solo código si no también subsistemas enteros\n",
    "- Ej: Subsistema para asistencia de parking en vehículos\n",
    "- *Trade-off* de reusabilidad\n",
    "    - Mayor costo de desarrollo inicial (2.5x)\n",
    "    - Menor costo de desarrollo e integración para productos futuros\n",
    "- Comprar vs construir"
   ]
  },
  {
   "cell_type": "markdown",
   "id": "a4d45a82",
   "metadata": {
    "cell_style": "split",
    "slideshow": {
     "slide_type": "-"
    }
   },
   "source": [
    "![rompecabezas](img/rompecabezas.jpg)"
   ]
  },
  {
   "cell_type": "markdown",
   "id": "23804270",
   "metadata": {
    "slideshow": {
     "slide_type": "slide"
    }
   },
   "source": [
    "#### Estructura de un equipo y planemiento\n",
    "- Facilita la distribución de responsabilidades en equipos\n",
    "    - Distribución de componentes\n",
    "    - Interacciones definidas explícitamente\n",
    "- Permite a los equipos dar estimados más precisos"
   ]
  },
  {
   "cell_type": "markdown",
   "id": "42fb0114",
   "metadata": {
    "cell_style": "split",
    "slideshow": {
     "slide_type": "slide"
    }
   },
   "source": [
    "#### Creación de prototipos\n",
    "- Prototipo: \"Arquitectura ejecutable\"\n",
    "- Validación temprana disminuye riesgos\n",
    "- Ejemplo: Simulaciones en IoT"
   ]
  },
  {
   "cell_type": "markdown",
   "id": "64a2003f",
   "metadata": {
    "cell_style": "split",
    "slideshow": {
     "slide_type": "-"
    }
   },
   "source": [
    "![prototipo](img/prototipo.png)"
   ]
  },
  {
   "cell_type": "markdown",
   "id": "d644742d",
   "metadata": {
    "cell_style": "split",
    "slideshow": {
     "slide_type": "slide"
    }
   },
   "source": [
    "#### Facilita la comunicación en la organización\n",
    "Lenguaje común para los *stakeholders*\n",
    "- Diferentes *stakeholders* tienen distintas prioridaded\n",
    "    - *Managers*: Bajo costo\n",
    "    - *Marketing*: Features, Time-to-market\n",
    "    - *Usuario Final*: Simplicidad, Rendimiento, Seguridad\n",
    "    - *Administrador*: Mantenibilidad\n",
    "    - *Clientes*: Bajo costo\n",
    "- Los arquitectos usan modelos para negociar"
   ]
  },
  {
   "cell_type": "markdown",
   "id": "02c7e9e5",
   "metadata": {
    "cell_style": "split",
    "slideshow": {
     "slide_type": "-"
    }
   },
   "source": [
    "<p>&nbsp;</p>\n",
    "<p>&nbsp;</p>\n",
    "\n",
    "![software_stakeholders](img/software_stakeholders.png)"
   ]
  },
  {
   "cell_type": "markdown",
   "id": "949d4a8b",
   "metadata": {
    "cell_style": "split",
    "slideshow": {
     "slide_type": "slide"
    }
   },
   "source": [
    "### Requerimientos de software\n",
    "- Recolección de requerimientos\n",
    "    - Evita altos costos de desarrollo\n",
    "- Interacción con *stakeholders*\n",
    "    - Prioridades en conflicto\n",
    "    - Suposiciones implícitas\n",
    "    - Deseos vs Necesidades\n",
    "- Funcionales y no funcionales\n",
    "- No todos afectan la arquitectura\n",
    "    - \"*Architecturally significant requirements*\" (ASRs)"
   ]
  },
  {
   "cell_type": "markdown",
   "id": "6fcc0c70",
   "metadata": {
    "cell_style": "split",
    "slideshow": {
     "slide_type": "-"
    }
   },
   "source": [
    "![costo_del_cambio](img/costo_del_cambio.png)"
   ]
  },
  {
   "cell_type": "markdown",
   "id": "f12aa994",
   "metadata": {
    "slideshow": {
     "slide_type": "slide"
    }
   },
   "source": [
    "![software_requirements](img/software_requirements.png)"
   ]
  },
  {
   "cell_type": "markdown",
   "id": "b5e5fca1",
   "metadata": {
    "slideshow": {
     "slide_type": "slide"
    }
   },
   "source": [
    "#### Requerimientos funcionales\n",
    "- Lo que el sistema debe hacer\n",
    "- Cómo debe comportarse y reaccionar\n",
    "- Caracterizado por verbos"
   ]
  },
  {
   "cell_type": "markdown",
   "id": "28d85531",
   "metadata": {
    "slideshow": {
     "slide_type": "slide"
    }
   },
   "source": [
    "#### Requerimientos no funcionales\n",
    "- Atributos de calidad del sistema\n",
    "    - Califican requerimientos funcionales\n",
    "    - Propiedades medibles y verificables\n",
    "- Requisitos del negocio\n",
    "    - Decisiones estratégicas\n",
    "    - Ej: Costo, UX, Ciclo de vida, etc\n",
    "- Restricciones\n",
    "    - Resultan de decisiones previas y dominio de aplicación\n",
    "    - Ej: Lenguaje de programación, protocolos, etc"
   ]
  },
  {
   "cell_type": "markdown",
   "id": "b8ef77e0",
   "metadata": {
    "slideshow": {
     "slide_type": "slide"
    }
   },
   "source": [
    "![software_requirements_types](img/software_requirements_types.png)"
   ]
  },
  {
   "cell_type": "markdown",
   "id": "774dbbec",
   "metadata": {
    "cell_style": "split",
    "slideshow": {
     "slide_type": "slide"
    }
   },
   "source": [
    "#### Documentación de requerimientos funcionales\n",
    "- Casos de uso: Resumen de *features*\n",
    "    - User stories, UML use-case\n",
    "- Escenarios: Secuencia de acciones"
   ]
  },
  {
   "cell_type": "markdown",
   "id": "f77f2fb8",
   "metadata": {
    "cell_style": "split",
    "slideshow": {
     "slide_type": "fragment"
    }
   },
   "source": [
    "![uml_use_case](img/uml_use_case.png)"
   ]
  },
  {
   "cell_type": "markdown",
   "id": "3a256d31",
   "metadata": {
    "slideshow": {
     "slide_type": "slide"
    }
   },
   "source": [
    "\n",
    "#### Documentación de requerimientos no funcionales\n",
    "- No es suficiente con \"el sistema debe ser rápido\"\n",
    "- Escenarios sobre atributos de calidad\n",
    "    - Permiten escribir los requerimientos de forma verificable\n",
    "    - Deben poder crearse pruebas (PASS / FAIL)\n",
    "- Ej: El sistema debe responder con 10ms de latencia el 90% del tiempo"
   ]
  },
  {
   "cell_type": "markdown",
   "id": "14d10ac0",
   "metadata": {
    "slideshow": {
     "slide_type": "slide"
    }
   },
   "source": [
    "#### IEEE Std 830-1998\n",
    "- IEEE Recommended Practice for Software Requirements Specifications\n",
    "- Describe contenidos y características de buenas especificaciones de requerimientos software (SRS)\n",
    "- Se utilizará en el lab 1 y el proyecto final\n",
    "- [Link](https://mv1.mediacionvirtual.ucr.ac.cr/pluginfile.php/2120649/mod_resource/content/1/IEEE830.pdf)"
   ]
  }
 ],
 "metadata": {
  "celltoolbar": "Slideshow",
  "kernelspec": {
   "display_name": "Python 3 (ipykernel)",
   "language": "python",
   "name": "python3"
  },
  "language_info": {
   "codemirror_mode": {
    "name": "ipython",
    "version": 3
   },
   "file_extension": ".py",
   "mimetype": "text/x-python",
   "name": "python",
   "nbconvert_exporter": "python",
   "pygments_lexer": "ipython3",
   "version": "3.8.10"
  }
 },
 "nbformat": 4,
 "nbformat_minor": 5
}
