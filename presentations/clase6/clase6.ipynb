{
 "cells": [
  {
   "cell_type": "markdown",
   "id": "d4f4e447",
   "metadata": {
    "cell_style": "split",
    "slideshow": {
     "slide_type": "slide"
    }
   },
   "source": [
    "### Control de versiones\n",
    "\n",
    "- **Distribuido**: Cada usuario tiene su propio repositorio local en donde hace commits. Se suele tener un repositorio remoto para sincronizar los cambios locales (Ej: Git, Mercurial).\n",
    "- **Centralizado**: Un solo repositorio centralizado de todo el código que acepta commits. Restricción para hacer commits y branches (Ej: CVS, Subversion).\n",
    "\n",
    "#### [Tech Talk: Linus Torvalds on git](https://youtu.be/4XpnKHJAok8?t=737)"
   ]
  },
  {
   "cell_type": "markdown",
   "id": "9bc2f34a",
   "metadata": {
    "cell_style": "split",
    "slideshow": {
     "slide_type": "fragment"
    }
   },
   "source": [
    "![git_vs_svn](img/git_vs_svn.png)"
   ]
  },
  {
   "cell_type": "markdown",
   "id": "7c27807e",
   "metadata": {
    "cell_style": "split",
    "slideshow": {
     "slide_type": "slide"
    }
   },
   "source": [
    "#### Git\n",
    "\n",
    "- Surge del desarrollo del kernel de Linux\n",
    "- Originalmente los cambios se compartían con parches y tarballs.\n",
    "- En el 2002, el proyecto del kernel adoptó BitKeeper.\n",
    "- En el 2005, por conflictos con BitMover Linus Torvals inventa Git"
   ]
  },
  {
   "cell_type": "markdown",
   "id": "ce17be1c",
   "metadata": {
    "cell_style": "split",
    "slideshow": {
     "slide_type": "-"
    }
   },
   "source": [
    "![git_logo](img/git_logo.png)"
   ]
  },
  {
   "cell_type": "markdown",
   "id": "77e55a76",
   "metadata": {
    "cell_style": "center",
    "slideshow": {
     "slide_type": "slide"
    }
   },
   "source": [
    "#### Primer commit de Git (Linus Torvalds)\n",
    "\n",
    "> GIT - the stupid content tracker\n",
    ">\n",
    "> \"git\" can mean anything, depending on your mood.\n",
    ">\n",
    "> - random three-letter combination that is pronounceable, and not \n",
    ">   actually used by any common UNIX command.  The fact that it is a\n",
    ">   mispronunciation of \"get\" may or may not be relevant.\n",
    "> - stupid. contemptible and despicable. simple. Take your pick from the \n",
    ">   dictionary of slang.\n",
    "> - \"global information tracker\": you're in a good mood, and it actually\n",
    ">   works for you. Angels sing, and a light suddenly fills the room. \n",
    "> - \"goddamn idiotic truckload of sh*t\": when it breaks\n",
    ">\n",
    "> This is a stupid (but extremely fast) directory content manager.  It  \n",
    "> doesn't do a whole lot, but what it _does_ do is track directory\n",
    "> contents efficiently."
   ]
  },
  {
   "cell_type": "markdown",
   "id": "e86a827d",
   "metadata": {
    "slideshow": {
     "slide_type": "slide"
    }
   },
   "source": [
    "#### Git 101\n",
    "- **Comándos básicos**: init, clone, status, log, add/rm, commit, push/pull\n",
    "- **Commits**: Author + Timestamp + Mensaje + SHA\n",
    "- **Branch**: Rama en el árbol de commits del repositorio\n",
    "    - Head: Puntero al último commit\n",
    "    - branch != origin/branch (remote tracking branch)\n",
    "    \n",
    "[Git SCM - Basics](https://git-scm.com/book/en/v2/Git-Basics-Getting-a-Git-Repository)"
   ]
  },
  {
   "cell_type": "markdown",
   "id": "b681bb8c",
   "metadata": {
    "cell_style": "split",
    "slideshow": {
     "slide_type": "slide"
    }
   },
   "source": [
    "#### Uso de branches\n",
    "- Ramas principales (main, releases, etc) y ramas de desarrollo\n",
    "- Ramas de desarrollo se suelen trabajar por feature\n",
    "    - Ej: `ezamoraa/sensor_commands`\n",
    "- Para integrar branches se utilizan estrategias de merge o rebase. En proyectos grandes se recomienda:\n",
    "    - Usar rebase para integrar cambios entre los branches de desarrollo\n",
    "    - Usar merge solo para integrar cambios a la rama principal\n",
    "    \n",
    "[Git SCM - Branches](https://git-scm.com/book/en/v2/Git-Branching-Branches-in-a-Nutshell)"
   ]
  },
  {
   "cell_type": "markdown",
   "id": "5a72d528",
   "metadata": {
    "cell_style": "split",
    "slideshow": {
     "slide_type": "fragment"
    }
   },
   "source": [
    "<p>&nbsp;</p>\n",
    "\n",
    "![git_branches](img/git_branches.png)"
   ]
  },
  {
   "cell_type": "markdown",
   "id": "47afbac4",
   "metadata": {
    "slideshow": {
     "slide_type": "slide"
    }
   },
   "source": [
    "#### Comandos relacionados a branches\n",
    "- `git branch`: Muestra todos los branches creados\n",
    "- `git branch <branch-name>`: Crea un branch sin saltar a el mismo\n",
    "- `git checkout -b <branch-name>`: Crea un branch y salta a el mismo\n",
    "- `git checkout <branch-name>`: Salta a un branch (o commit) ya existente\n",
    "- `git rebase <branch-name>`:\n",
    "    - Toma los commits de `<branch-name>` como nueva base del branch actual\n",
    "    - Vuelve a aplicar los commits del branch actual\n",
    "- `git merge <branch-name>`: \n",
    "    - Aplica los commits de `<branch-name>` sobre el branch actual\n",
    "    - Crea un commit de merge para representar el punto de integración\n",
    "\n",
    "[Git SCM - Basic Branching and Merging](https://git-scm.com/book/en/v2/Git-Branching-Basic-Branching-and-Merging), [Git SCM - Rebasing](https://git-scm.com/book/en/v2/Git-Branching-Rebasing)"
   ]
  },
  {
   "cell_type": "markdown",
   "id": "5e3e9846",
   "metadata": {
    "slideshow": {
     "slide_type": "slide"
    }
   },
   "source": [
    "#### Remotes\n",
    "- Representan un repositorio remoto\n",
    "- Comandos:\n",
    "    - `git remote add <remote-name> <remote-url>`: Agrega un nuevo remote\n",
    "        - Ej: `git remote add dev git@github.com:ezamoraa/ie0417-dev.git`\n",
    "    - `git remote remove <remote-name>`: Elimina el remote\n",
    "    - `git remote show <remote-name>`: Muestra toda la información de URLs y branches relacionada al remote\n",
    "    \n",
    "[Git SCM - Working with Remotes](https://git-scm.com/book/en/v2/Git-Basics-Working-with-Remotes)"
   ]
  },
  {
   "cell_type": "markdown",
   "id": "b3c6fdd3",
   "metadata": {
    "slideshow": {
     "slide_type": "slide"
    }
   },
   "source": [
    "#### Fetch y Pull\n",
    "- `git fetch <remote>`: actualiza los remote-tracking branches de un repositorio remoto\n",
    "- `git pull`: actualiza el branch actual con los cambios del remote-tracking branch asociado\n",
    "- `git pull <remote> <branch>`: actualiza el branch actual con los cambios de un remote-tracking custom\n",
    "    - Ej: `git pull origin main`: hace pull de main directamente a mi branch (muy útil)\n"
   ]
  },
  {
   "cell_type": "markdown",
   "id": "79bef020",
   "metadata": {
    "slideshow": {
     "slide_type": "slide"
    }
   },
   "source": [
    "#### git pull vs git pull --rebase\n",
    "- Por defecto el pull hace un merge\n",
    "- Los merges suelen complicar el árbol de commits\n",
    "- Los rebases hacen que la historia se más limpia\n",
    "- Configurar el pull para que siempre haga un rebase en lugar de un merge\n",
    "    - `git config --global pull.rebase true`"
   ]
  },
  {
   "cell_type": "markdown",
   "id": "d1430a01",
   "metadata": {},
   "source": [
    "#### Flujo de desarrollo típico\n",
    "\n",
    "- Actualizar branches locales con remotos (traer cambios)\n",
    "- Escoger un branch base\n",
    "- Crear un branch de desarrollo *\n",
    "- ¡Programar! (o hacer los cambios necesarios)\n",
    "- Crear un commit (o varios)\n",
    "- Re-sincronizar branches **\n",
    "- Subir la rama con los cambios al remote (origin)\n",
    "- Crear un \"Pull Request\""
   ]
  },
  {
   "cell_type": "markdown",
   "id": "01bb3244",
   "metadata": {
    "slideshow": {
     "slide_type": "slide"
    }
   },
   "source": [
    "#### Reescribir la historia\n",
    "- Es útil para agrupar y \"limpiar\" los commits\n",
    "- Es recomendable que cada commit represente una unidad funcional de cambios\n",
    "- Considerar que eventualmente puede ser necesario revertir el commit\n",
    "- Comandos\n",
    "    - `git commit --amend`: Permite agregar cambios al último commit (muy útil)\n",
    "    - `git rebase -i <base-commit>`: Permite modificar los commits desde `<base-commit>`\n",
    "    - `git reset --soft <base-commit>`: Elimina los commits desde `<base-commit>` y pasa los cambios al staging area\n",
    "    - `git reset --hard <base-commit>`: Devuelve el repositorio exactamente a `<base-commit>`, eliminando commits posteriores y cambios locales (cuidado!)\n",
    "\n",
    "[Git SCM - Rewriting history](https://git-scm.com/book/en/v2/Git-Tools-Rewriting-History)"
   ]
  },
  {
   "cell_type": "markdown",
   "id": "aa26fdb1",
   "metadata": {
    "slideshow": {
     "slide_type": "slide"
    }
   },
   "source": [
    "#### Tags\n",
    "- Se usan para marcar releases o milestones\n",
    "- Puntero a un commit específico\n",
    "- `git tag <tag-name>`\n",
    "\n",
    "[Git SCM - Tags](https://git-scm.com/book/en/v2/Git-Basics-Tagging)"
   ]
  },
  {
   "cell_type": "markdown",
   "id": "880121b6",
   "metadata": {
    "slideshow": {
     "slide_type": "slide"
    }
   },
   "source": [
    "#### Stash\n",
    "- Permite guardar los cambios en desarrollo (sin commit) en una pila temporal\n",
    "- Es útil si se quiere temporalmente volver a un repositorio limpio, sin tener hacer commit\n",
    "- Se puede usar para cambiar rápidamente de branch\n",
    "    - `git stash save`\n",
    "    - `git stash show`\n",
    "    - `git stash apply/pop`\n",
    "\n",
    "[Git SCM - Stash](https://git-scm.com/docs/git-stash)"
   ]
  },
  {
   "cell_type": "markdown",
   "id": "a81e4f0a",
   "metadata": {
    "slideshow": {
     "slide_type": "slide"
    }
   },
   "source": [
    "#### Cherry-pick\n",
    "- Permite extraer un commit de cualquier lugar y aplicarlo a mi branch\n",
    "    - `git cherry-pick <commit1> ...`\n",
    "    \n",
    "[Git SCM - Cherry-pick](https://git-scm.com/docs/git-cherry-pick)"
   ]
  },
  {
   "cell_type": "markdown",
   "id": "b48e9938",
   "metadata": {
    "slideshow": {
     "slide_type": "slide"
    }
   },
   "source": [
    "#### Patches\n",
    "- Útiles para distribuir fixes como archivos\n",
    "- Manualmente\n",
    "    - `git diff > file.patch`\n",
    "    - `patch -p1 < file.patch`\n",
    "- Comandos de git\n",
    "    - `git format-patch <commit1>..<commit2> --stdout > file.patch`\n",
    "    - `git am file.patch`"
   ]
  },
  {
   "cell_type": "markdown",
   "id": "918c6e3f",
   "metadata": {
    "slideshow": {
     "slide_type": "slide"
    }
   },
   "source": [
    "#### GitHub Pull Requests (PRs)\n",
    "- Git != GitHub\n",
    "- GitHub guarda los repositorios remotos para colaborar\n",
    "- Los Pull Requests son un concepto de GitHub que permiten revisar e integrar cambios\n",
    "- [Pull Requests](https://github.com/ezamoraa/ie0417/pulls)\n",
    "- [Open Pull Request](https://github.com/ezamoraa/ie0417/compare/ezamoraa/sensor_commands?expand=1)"
   ]
  }
 ],
 "metadata": {
  "celltoolbar": "Slideshow",
  "kernelspec": {
   "display_name": "Python 3 (ipykernel)",
   "language": "python",
   "name": "python3"
  },
  "language_info": {
   "codemirror_mode": {
    "name": "ipython",
    "version": 3
   },
   "file_extension": ".py",
   "mimetype": "text/x-python",
   "name": "python",
   "nbconvert_exporter": "python",
   "pygments_lexer": "ipython3",
   "version": "3.8.10"
  }
 },
 "nbformat": 4,
 "nbformat_minor": 5
}
