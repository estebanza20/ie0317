{
 "cells": [
  {
   "cell_type": "markdown",
   "id": "ee580192",
   "metadata": {
    "slideshow": {
     "slide_type": "slide"
    }
   },
   "source": [
    "## Introducción al testing de software"
   ]
  },
  {
   "cell_type": "markdown",
   "id": "4fdface5",
   "metadata": {
    "cell_style": "split",
    "slideshow": {
     "slide_type": "slide"
    }
   },
   "source": [
    "### Calidad en el software\n",
    "- Recordar objetivos de negocio, requerimientos y atributos de calidad\n",
    "    - La calidad se tiene que tomar en cuenta en todo el proceso\n",
    "- El testing solo confirman la calidad, no la garantiza\n",
    "- Tradeoff entre calidad y costo\n",
    "    - Riesgo medido: _\"good enough software?\"_\n",
    "    - Depende del dominio de aplicación"
   ]
  },
  {
   "cell_type": "markdown",
   "id": "4a39f750",
   "metadata": {
    "cell_style": "split",
    "slideshow": {
     "slide_type": "-"
    }
   },
   "source": [
    "![software-quality](img/software-quality.png)"
   ]
  },
  {
   "cell_type": "markdown",
   "id": "4d84ee3a",
   "metadata": {
    "cell_style": "split",
    "slideshow": {
     "slide_type": "slide"
    }
   },
   "source": [
    "### Quality Assurance (QA)\n",
    "- Actividades y procesos para el mantenimiento de la calidad del software\n",
    "- Un grupo de QA se enfoca en ver el software desde el punto de vista del usuario\n",
    "    - Evitar _developer bias_ (sesgo optimista)\n",
    "- Actividades comunes\n",
    "    - Revisiones técnicas\n",
    "    - Pruebas de software (testing)\n",
    "    - Recolección y análisis de errores\n",
    "    - Aplicación de estándares de calidad\n",
    "    - Recolección de métricas"
   ]
  },
  {
   "cell_type": "markdown",
   "id": "db1f96c4",
   "metadata": {
    "cell_style": "split",
    "slideshow": {
     "slide_type": "-"
    }
   },
   "source": [
    "![quality-assurance](img/quality-assurance.png)"
   ]
  },
  {
   "cell_type": "markdown",
   "id": "b3deb88b",
   "metadata": {
    "slideshow": {
     "slide_type": "slide"
    }
   },
   "source": [
    "### Verificación y validación\n",
    "![verif_vs_valid](img/verification_vs_validation.jpg)\n",
    "\n",
    "- **Verificación**: Tareas que aseguran que el software implementa correctamente una funcionalidad\n",
    "- **Validación**: Tareas que aseguran que el software cumple con los requerimientos de usuario"
   ]
  },
  {
   "cell_type": "markdown",
   "id": "8061b488",
   "metadata": {
    "cell_style": "split",
    "slideshow": {
     "slide_type": "slide"
    }
   },
   "source": [
    "### Estrategia de testing\n",
    "![testing-strategy](img/testing-strategy.png)"
   ]
  },
  {
   "cell_type": "markdown",
   "id": "4d936aa2",
   "metadata": {
    "cell_style": "split",
    "slideshow": {
     "slide_type": "fragment"
    }
   },
   "source": [
    "![testing-pyramid](img/testing-pyramid.png)"
   ]
  },
  {
   "cell_type": "markdown",
   "id": "59078c70",
   "metadata": {
    "cell_style": "split",
    "slideshow": {
     "slide_type": "slide"
    }
   },
   "source": [
    "#### Unit testing\n",
    "- Nivel de componentes\n",
    "- Se enfoca en ejercitar caminos de control\n",
    "    - Maximizar cobertura (_coverage_)\n",
    "    - Probar condiciones de frontera\n",
    "    - Manejo y detección de errores\n",
    "- Se intenta aislar los componentes con _stubs_\n",
    "    - Réplicas \"fake\" de una dependencia o módulo\n",
    "    - Funcionalidad muy limitada para efectos de testing"
   ]
  },
  {
   "cell_type": "markdown",
   "id": "b0843612",
   "metadata": {
    "cell_style": "split",
    "slideshow": {
     "slide_type": "fragment"
    }
   },
   "source": [
    "![ut](img/ut.png)"
   ]
  },
  {
   "cell_type": "markdown",
   "id": "2f0f564d",
   "metadata": {
    "slideshow": {
     "slide_type": "slide"
    }
   },
   "source": [
    "#### Ejemplo de stubs\n",
    "\n",
    "![stubs](img/fakesinterfaces.png)"
   ]
  },
  {
   "cell_type": "markdown",
   "id": "87407559",
   "metadata": {
    "cell_style": "split",
    "slideshow": {
     "slide_type": "slide"
    }
   },
   "source": [
    "#### Integration testing\n",
    "- Se prueban múltiples componentes en conjunto\n",
    "\n",
    "##### Problemas de integración\n",
    "- Los datos se pueden perder a través de interfaces\n",
    "- Al combinar subfunciones no logran la función deseada\n",
    "- Problemas aceptables para un componente pueden magnificarse\n",
    "    - Rendimiento, precisión, etc"
   ]
  },
  {
   "cell_type": "markdown",
   "id": "107c7842",
   "metadata": {
    "cell_style": "split",
    "slideshow": {
     "slide_type": "-"
    }
   },
   "source": [
    "![square_peg](img/square_peg.gif)"
   ]
  },
  {
   "cell_type": "markdown",
   "id": "73b95df8",
   "metadata": {
    "cell_style": "split",
    "slideshow": {
     "slide_type": "slide"
    }
   },
   "source": [
    "### _\"Two unit tests no integration tests\"_\n",
    "\n",
    "![no-integration-tests-1](img/two-unit-tests-no-integration-tests-1.png)"
   ]
  },
  {
   "cell_type": "markdown",
   "id": "b63267d2",
   "metadata": {
    "cell_style": "split",
    "slideshow": {
     "slide_type": "fragment"
    }
   },
   "source": [
    "![no-integration-tests-2](img/two-unit-tests-no-integration-tests-2.jpg)"
   ]
  },
  {
   "cell_type": "markdown",
   "id": "be9fe485",
   "metadata": {
    "cell_style": "split",
    "slideshow": {
     "slide_type": "slide"
    }
   },
   "source": [
    "#### Integración Top-Down\n",
    "- Se prueban primero las capas de políticas y control de la aplicación\n",
    "  - Componentes de alto nivel (recordar policy vs mechanism)\n",
    "- Necesidad de *stubs* para representar componentes de bajo nivel aún no implementados\n",
    "- Fundamental para testing de frameworks genéricos\n",
    "    "
   ]
  },
  {
   "cell_type": "markdown",
   "id": "6bc35a1b",
   "metadata": {
    "cell_style": "split",
    "slideshow": {
     "slide_type": "-"
    }
   },
   "source": [
    "![top-down](img/top-down.png)"
   ]
  },
  {
   "cell_type": "markdown",
   "id": "e5efe28c",
   "metadata": {
    "cell_style": "split",
    "slideshow": {
     "slide_type": "slide"
    }
   },
   "source": [
    "#### Integración Bottom-Up\n",
    "- Se prueban primero componentes de bajo nivel\n",
    "    - Elimina la necesidad de stubs\n",
    "- Se combinan los componentes en clusters de funcionalidad\n",
    "- Se itera hasta probar los componentes de alto nivel"
   ]
  },
  {
   "cell_type": "markdown",
   "id": "eb9de1aa",
   "metadata": {
    "cell_style": "split",
    "slideshow": {
     "slide_type": "-"
    }
   },
   "source": [
    "![bottom-up](img/bottom-up.png)"
   ]
  },
  {
   "cell_type": "markdown",
   "id": "360deef1",
   "metadata": {
    "cell_style": "split",
    "slideshow": {
     "slide_type": "slide"
    }
   },
   "source": [
    "#### Validation testing\n",
    "- Se enfoca en validar los requerimientos a nivel de usuario\n",
    "- Se define un _test plan_ con pruebas que mapean a requerimientos\n",
    "    - Cada test tiene un identificador y sus requerimientos asociados\n",
    "    - Se describe la secuencia de pasos y checks por realizar\n",
    "    - Es fundamental que los requerimientos sean claros\n",
    "- _Acceptance testing_: Cliente corre una serie de pruebas para decidir si acepta el software"
   ]
  },
  {
   "cell_type": "markdown",
   "id": "0786f78a",
   "metadata": {
    "cell_style": "split",
    "slideshow": {
     "slide_type": "-"
    }
   },
   "source": [
    "&nbsp;\n",
    "&nbsp;\n",
    "![test-plan](img/test-plan.png)"
   ]
  },
  {
   "cell_type": "markdown",
   "id": "c7ba2397",
   "metadata": {
    "slideshow": {
     "slide_type": "slide"
    }
   },
   "source": [
    "#### System testing\n",
    "- Prueba el software en su interacción con otros elementos de un sistema\n",
    "    - Ej: Hardware, Personas, Información\n",
    "- Tipos de pruebas de sistema\n",
    "    - Ej: Disponibilidad, Seguridad, Rendimiento, Despliegue\n",
    "- En cierta literatura se combina con el concepto de _validation testing_ o viceversa"
   ]
  },
  {
   "cell_type": "markdown",
   "id": "b575c937",
   "metadata": {
    "slideshow": {
     "slide_type": "slide"
    }
   },
   "source": [
    "#### Black box vs White box testing\n",
    "![black-box-vs-white-box](img/black-box-vs-white-box-testing.jpg)"
   ]
  },
  {
   "cell_type": "markdown",
   "id": "38b12588",
   "metadata": {
    "cell_style": "split",
    "slideshow": {
     "slide_type": "slide"
    }
   },
   "source": [
    "#### Testing en C/C++\n",
    "- El framework más utilizado es [GoogleTest (gtest)](https://google.github.io/googletest/)\n",
    "- Basado en clases de testing y macros de _assertions_"
   ]
  },
  {
   "cell_type": "markdown",
   "id": "0e099cfd",
   "metadata": {
    "cell_style": "split",
    "slideshow": {
     "slide_type": "-"
    }
   },
   "source": [
    "![gtest-logo](img/gtest-logo.png)\n",
    "\n",
    "![gtest-run](img/gtest-run.png)"
   ]
  },
  {
   "cell_type": "markdown",
   "id": "8e8651db",
   "metadata": {
    "cell_style": "split",
    "slideshow": {
     "slide_type": "slide"
    }
   },
   "source": [
    "#### Testing en Python\n",
    "- El framework más utilizado es [pytest](https://docs.pytest.org/en/7.1.x/)\n",
    "- Basado en funciones de testing y _fixtures_"
   ]
  },
  {
   "cell_type": "markdown",
   "id": "53acfb56",
   "metadata": {
    "cell_style": "split",
    "slideshow": {
     "slide_type": "fragment"
    }
   },
   "source": [
    "![gtest-logo](img/pytest-logo.png)\n",
    "\n",
    "![pytest-run](img/pytest-run.png)"
   ]
  },
  {
   "cell_type": "markdown",
   "id": "98e91f32",
   "metadata": {
    "slideshow": {
     "slide_type": "slide"
    }
   },
   "source": [
    "### Test Driven Development (TDD)\n",
    "\n",
    "![tdd](img/tdd.png)"
   ]
  },
  {
   "cell_type": "markdown",
   "id": "10197f05",
   "metadata": {
    "slideshow": {
     "slide_type": "slide"
    }
   },
   "source": [
    "### Testability\n",
    "\n",
    "- Atributo de calidad: Facilidad de un componente para ser probado. \n",
    "- Los sistemas se deben diseñar considerando la testabilidad.\n",
    "\n",
    "![testability](img/testability.png)\n",
    "\n",
    "[Artículo: Testability from a Developer's Perspective](https://www.informit.com/articles/article.aspx?p=2730112&seqNum=3)"
   ]
  }
 ],
 "metadata": {
  "celltoolbar": "Slideshow",
  "kernelspec": {
   "display_name": "Python 3 (ipykernel)",
   "language": "python",
   "name": "python3"
  },
  "language_info": {
   "codemirror_mode": {
    "name": "ipython",
    "version": 3
   },
   "file_extension": ".py",
   "mimetype": "text/x-python",
   "name": "python",
   "nbconvert_exporter": "python",
   "pygments_lexer": "ipython3",
   "version": "3.8.10"
  }
 },
 "nbformat": 4,
 "nbformat_minor": 5
}
