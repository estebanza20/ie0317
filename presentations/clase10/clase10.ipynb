{
 "cells": [
  {
   "cell_type": "markdown",
   "id": "9a371271",
   "metadata": {
    "slideshow": {
     "slide_type": "slide"
    }
   },
   "source": [
    "## Introducción a desarrollo de proyectos en C/C++"
   ]
  },
  {
   "cell_type": "markdown",
   "id": "b7c9357e",
   "metadata": {
    "slideshow": {
     "slide_type": "slide"
    }
   },
   "source": [
    "![c_devel_process](img/c_devel_process.png)"
   ]
  },
  {
   "cell_type": "markdown",
   "id": "4fc4b295",
   "metadata": {
    "slideshow": {
     "slide_type": "slide"
    }
   },
   "source": [
    "![static_vs_shared_lib](img/static_vs_shared_lib.png)"
   ]
  },
  {
   "cell_type": "markdown",
   "id": "268dd15b",
   "metadata": {
    "cell_style": "split",
    "slideshow": {
     "slide_type": "slide"
    }
   },
   "source": [
    "![cmake](img/cmake.png)"
   ]
  },
  {
   "cell_type": "markdown",
   "id": "fcee7c1c",
   "metadata": {
    "cell_style": "split",
    "slideshow": {
     "slide_type": "-"
    }
   },
   "source": [
    "[CMake Reference](https://cmake.org/cmake/help/latest/)\n",
    "\n",
    "[CMake Tutorial - Oficial](https://cmake.org/cmake/help/latest/guide/tutorial/index.html)\n",
    "\n",
    "[CMake Tutorial - RIP tutorial](https://riptutorial.com/cmake)"
   ]
  },
  {
   "cell_type": "markdown",
   "id": "9e7fa794",
   "metadata": {
    "slideshow": {
     "slide_type": "slide"
    }
   },
   "source": [
    "![cmake_make_lib](img/cmake_make_lib.png)"
   ]
  }
 ],
 "metadata": {
  "celltoolbar": "Slideshow",
  "kernelspec": {
   "display_name": "Python 3 (ipykernel)",
   "language": "python",
   "name": "python3"
  },
  "language_info": {
   "codemirror_mode": {
    "name": "ipython",
    "version": 3
   },
   "file_extension": ".py",
   "mimetype": "text/x-python",
   "name": "python",
   "nbconvert_exporter": "python",
   "pygments_lexer": "ipython3",
   "version": "3.8.10"
  }
 },
 "nbformat": 4,
 "nbformat_minor": 5
}
