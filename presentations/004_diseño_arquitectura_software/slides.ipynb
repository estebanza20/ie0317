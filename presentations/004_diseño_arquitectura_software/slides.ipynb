{
 "cells": [
  {
   "cell_type": "markdown",
   "id": "fe029b8a",
   "metadata": {
    "cell_style": "split",
    "slideshow": {
     "slide_type": "slide"
    }
   },
   "source": [
    "#### Attribute-driven Design (ADD)\n",
    "- Descargar en [link](https://mv1.mediacionvirtual.ucr.ac.cr/pluginfile.php/2129314/mod_folder/content/0/Attribute-Driven%20Design%20%28ADD%29%2C%20Version%202.0.pdf?forcedownload=1)\n",
    "- Requerimientos + Atributos de calidad => Arquitectura\n",
    "- Recursivamente descompone los elementos del sistema\n",
    "\n",
    "![pdca](img/pdca.png)\n"
   ]
  },
  {
   "cell_type": "markdown",
   "id": "370dd1f2",
   "metadata": {
    "cell_style": "split",
    "slideshow": {
     "slide_type": "fragment"
    }
   },
   "source": [
    "![add](img/add.png)"
   ]
  },
  {
   "cell_type": "markdown",
   "id": "c3ca259c",
   "metadata": {
    "cell_style": "split",
    "slideshow": {
     "slide_type": "slide"
    }
   },
   "source": [
    "![add_steps](img/add_steps.png)"
   ]
  },
  {
   "cell_type": "markdown",
   "id": "47e25722",
   "metadata": {
    "cell_style": "split",
    "slideshow": {
     "slide_type": "fragment"
    }
   },
   "source": [
    "##### Paso 3\n",
    "- \"Architectural drivers\" priorizan (H, M, L) requerimientos según impacto (negocio, arquitectura): (H, H), (H, L), etc\n",
    "\n",
    "#### Paso 4\n",
    "- \"Architectural drivers\" => \"Design concerns\"\n",
    "- \"Design concerns\" => Tácticas y patrones de diseño\n",
    "\n",
    "#### Paso 5\n",
    "- Instanciar decisiones diseño en sub-componentes y asignar responsabilidades"
   ]
  },
  {
   "cell_type": "markdown",
   "id": "b1fdd35b",
   "metadata": {
    "cell_style": "split",
    "slideshow": {
     "slide_type": "slide"
    }
   },
   "source": [
    "#### Tácticas y patrones en ADD\n",
    "- Tácticas: Decisión de diseño para lograr atributos de calidad\n",
    "- Patrones: Soluciones conocidas a problemas de diseño\n",
    "    - Una o más tácticas"
   ]
  },
  {
   "cell_type": "markdown",
   "id": "235ed6a5",
   "metadata": {
    "cell_style": "split",
    "slideshow": {
     "slide_type": "-"
    }
   },
   "source": [
    "![tactics](img/tactics.jpg)"
   ]
  },
  {
   "cell_type": "markdown",
   "id": "7c2b25f1",
   "metadata": {
    "cell_style": "split",
    "slideshow": {
     "slide_type": "slide"
    }
   },
   "source": [
    "#### Ej: Tácticas y Patrones de Modificabilidad\n",
    "\n",
    "Descargar en [link](https://mv1.mediacionvirtual.ucr.ac.cr/pluginfile.php/2129314/mod_folder/content/0/modifiability_tactics-and-patterns.pdf?forcedownload=1)\n",
    "\n",
    "##### Tácticas\n",
    "- \"Dividir una Responsabilidad\"\n",
    "- \"Mantener Coherencia Semántica\"\n",
    "- \"Usar Encapsulación\""
   ]
  },
  {
   "cell_type": "markdown",
   "id": "d7c75c2d",
   "metadata": {
    "cell_style": "split",
    "slideshow": {
     "slide_type": "-"
    }
   },
   "source": [
    "![split_resp_tactic](img/split_resp_tactic.png)"
   ]
  },
  {
   "cell_type": "markdown",
   "id": "5c451b9e",
   "metadata": {
    "slideshow": {
     "slide_type": "slide"
    }
   },
   "source": [
    "![coupling_cohesion](img/coupling_cohesion.png)"
   ]
  },
  {
   "cell_type": "markdown",
   "id": "b76db712",
   "metadata": {
    "cell_style": "split",
    "slideshow": {
     "slide_type": "slide"
    }
   },
   "source": [
    "##### Patrones\n",
    "- \"Layers\"\n",
    "- \"Pipeline\"\n",
    "- \"Broker\""
   ]
  },
  {
   "cell_type": "markdown",
   "id": "2f670d6d",
   "metadata": {
    "cell_style": "split",
    "slideshow": {
     "slide_type": "-"
    }
   },
   "source": [
    "![layers_pattern](img/layers_pattern.png)"
   ]
  },
  {
   "cell_type": "markdown",
   "id": "a785fc07",
   "metadata": {
    "cell_style": "split",
    "slideshow": {
     "slide_type": "slide"
    }
   },
   "source": [
    "![pipeline_pattern](img/pipeline_pattern.png)"
   ]
  },
  {
   "cell_type": "markdown",
   "id": "18abdfd7",
   "metadata": {
    "cell_style": "split",
    "slideshow": {
     "slide_type": "fragment"
    }
   },
   "source": [
    "![broker_pattern](img/broker_pattern.png)"
   ]
  },
  {
   "cell_type": "markdown",
   "id": "7340da9b",
   "metadata": {
    "slideshow": {
     "slide_type": "slide"
    }
   },
   "source": [
    "#### Paper: How Business Goals Drive Architectural Design\n",
    "\n",
    "- Ejemplo de ADD\n",
    "- Descargar en [link](https://mv1.mediacionvirtual.ucr.ac.cr/pluginfile.php/2129314/mod_folder/content/0/how-business-goals-drive-architectural-design.pdf?forcedownload=1)"
   ]
  },
  {
   "cell_type": "markdown",
   "id": "0bcf7f54",
   "metadata": {
    "slideshow": {
     "slide_type": "slide"
    }
   },
   "source": [
    "#### Patrones de Arquitectura: N-Tier\n",
    "![n-tier](img/n-tier_arch.png)"
   ]
  },
  {
   "cell_type": "markdown",
   "id": "4291669d",
   "metadata": {
    "slideshow": {
     "slide_type": "slide"
    }
   },
   "source": [
    "#### Patrones de Arquitectura: Microservices\n",
    "![microservices](img/microservices.png)"
   ]
  },
  {
   "cell_type": "markdown",
   "id": "bdcb2131",
   "metadata": {
    "cell_style": "split",
    "slideshow": {
     "slide_type": "slide"
    }
   },
   "source": [
    "![microservices_taxi](img/microservices_taxi.png)"
   ]
  },
  {
   "cell_type": "markdown",
   "id": "210736ee",
   "metadata": {
    "cell_style": "split",
    "slideshow": {
     "slide_type": "fragment"
    }
   },
   "source": [
    "![uber_microservices](img/uber_microservices.jpg)"
   ]
  },
  {
   "cell_type": "markdown",
   "id": "7e4ee813",
   "metadata": {
    "slideshow": {
     "slide_type": "slide"
    }
   },
   "source": [
    "#### Patrones de Arquitectura: Event-driven\n",
    "\n",
    "![event_driven](img/event_driven_arch.png)\n"
   ]
  },
  {
   "cell_type": "markdown",
   "id": "a341bbe8",
   "metadata": {
    "cell_style": "split",
    "slideshow": {
     "slide_type": "slide"
    }
   },
   "source": [
    "#### Modelo de Vistas de Arquitectura 4+1 de Kruchten\n",
    "\n",
    "- Ver en [Wikipedia](https://en.wikipedia.org/wiki/4%2B1_architectural_view_model)\n",
    "- 4 Vistas\n",
    "    - Lógica: Funcionalidad (UML: **Clases**, **Estados**)\n",
    "    - Proceso: Dinámicas (UML: **Secuencia**, **Actividad**)\n",
    "    - Desarrollo: Software management (UML: **Paquetes**, **Componentes**)\n",
    "    - Física: Mapeo a Hardware (UML: **Despliegue**)\n",
    "- Escenarios (+1) (UML: **Caso de Uso**)\n"
   ]
  },
  {
   "cell_type": "markdown",
   "id": "d86d369e",
   "metadata": {
    "cell_style": "split",
    "slideshow": {
     "slide_type": "-"
    }
   },
   "source": [
    "![kruchten_4_1](img/kruchten_4_1.png)"
   ]
  },
  {
   "cell_type": "markdown",
   "id": "8a7264b1",
   "metadata": {
    "cell_style": "split",
    "slideshow": {
     "slide_type": "slide"
    }
   },
   "source": [
    "#### UML\n",
    "- Surgió en los 90s para estandarizar modelos de notación para diseño de software\n",
    "    - UML 1.1 (1997)\n",
    "    - UML 2.0 (2005)\n",
    "    - UML 2.5 (2015)\n",
    "- No queremos seguir el estándar al 100%\n",
    "- [PlantUML](https://plantuml.com/es/)\n",
    "    - Editor online [PlantText](https://www.planttext.com/)"
   ]
  },
  {
   "cell_type": "markdown",
   "id": "9bbcc84e",
   "metadata": {
    "cell_style": "split",
    "slideshow": {
     "slide_type": "-"
    }
   },
   "source": [
    "![uml](img/uml.png)"
   ]
  },
  {
   "cell_type": "markdown",
   "id": "e4f6eb6b",
   "metadata": {
    "slideshow": {
     "slide_type": "slide"
    }
   },
   "source": [
    "#### Modelo de análisis o requerimientos vs Modelo de diseño\n",
    "![modelos_analisis_diseño](img/modelos_analisis_diseño.png)"
   ]
  }
 ],
 "metadata": {
  "celltoolbar": "Slideshow",
  "kernelspec": {
   "display_name": "Python 3 (ipykernel)",
   "language": "python",
   "name": "python3"
  },
  "language_info": {
   "codemirror_mode": {
    "name": "ipython",
    "version": 3
   },
   "file_extension": ".py",
   "mimetype": "text/x-python",
   "name": "python",
   "nbconvert_exporter": "python",
   "pygments_lexer": "ipython3",
   "version": "3.8.10"
  }
 },
 "nbformat": 4,
 "nbformat_minor": 5
}
